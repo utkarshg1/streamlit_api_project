{
 "cells": [
  {
   "cell_type": "markdown",
   "id": "e9b5b9e7",
   "metadata": {},
   "source": [
    "# Stock Market API Project"
   ]
  },
  {
   "cell_type": "code",
   "execution_count": 1,
   "id": "2f6bad9c",
   "metadata": {},
   "outputs": [],
   "source": [
    "import streamlit as st"
   ]
  },
  {
   "cell_type": "code",
   "execution_count": 2,
   "id": "efafd181",
   "metadata": {},
   "outputs": [],
   "source": [
    "api_key = st.secrets[\"API_KEY\"]"
   ]
  },
  {
   "cell_type": "markdown",
   "id": "7576a8ba",
   "metadata": {},
   "source": [
    "# Symbol Search"
   ]
  },
  {
   "cell_type": "code",
   "execution_count": 6,
   "id": "d4e89532",
   "metadata": {},
   "outputs": [
    {
     "data": {
      "text/html": [
       "<div>\n",
       "<style scoped>\n",
       "    .dataframe tbody tr th:only-of-type {\n",
       "        vertical-align: middle;\n",
       "    }\n",
       "\n",
       "    .dataframe tbody tr th {\n",
       "        vertical-align: top;\n",
       "    }\n",
       "\n",
       "    .dataframe thead th {\n",
       "        text-align: right;\n",
       "    }\n",
       "</style>\n",
       "<table border=\"1\" class=\"dataframe\">\n",
       "  <thead>\n",
       "    <tr style=\"text-align: right;\">\n",
       "      <th></th>\n",
       "      <th>1. symbol</th>\n",
       "      <th>2. name</th>\n",
       "      <th>3. type</th>\n",
       "      <th>4. region</th>\n",
       "      <th>5. marketOpen</th>\n",
       "      <th>6. marketClose</th>\n",
       "      <th>7. timezone</th>\n",
       "      <th>8. currency</th>\n",
       "      <th>9. matchScore</th>\n",
       "    </tr>\n",
       "  </thead>\n",
       "  <tbody>\n",
       "    <tr>\n",
       "      <th>0</th>\n",
       "      <td>SBIN.BSE</td>\n",
       "      <td>State Bank of India</td>\n",
       "      <td>Equity</td>\n",
       "      <td>India/Bombay</td>\n",
       "      <td>09:15</td>\n",
       "      <td>15:30</td>\n",
       "      <td>UTC+5.5</td>\n",
       "      <td>INR</td>\n",
       "      <td>1.0000</td>\n",
       "    </tr>\n",
       "    <tr>\n",
       "      <th>1</th>\n",
       "      <td>SBKFF</td>\n",
       "      <td>State Bank of India</td>\n",
       "      <td>Equity</td>\n",
       "      <td>United States</td>\n",
       "      <td>09:30</td>\n",
       "      <td>16:00</td>\n",
       "      <td>UTC-04</td>\n",
       "      <td>USD</td>\n",
       "      <td>1.0000</td>\n",
       "    </tr>\n",
       "    <tr>\n",
       "      <th>2</th>\n",
       "      <td>SID.FRK</td>\n",
       "      <td>State Bank of India</td>\n",
       "      <td>Equity</td>\n",
       "      <td>Frankfurt</td>\n",
       "      <td>08:00</td>\n",
       "      <td>20:00</td>\n",
       "      <td>UTC+02</td>\n",
       "      <td>EUR</td>\n",
       "      <td>1.0000</td>\n",
       "    </tr>\n",
       "    <tr>\n",
       "      <th>3</th>\n",
       "      <td>SBID.LON</td>\n",
       "      <td>State Bank of India GDR</td>\n",
       "      <td>Equity</td>\n",
       "      <td>United Kingdom</td>\n",
       "      <td>08:00</td>\n",
       "      <td>16:30</td>\n",
       "      <td>UTC+01</td>\n",
       "      <td>USD</td>\n",
       "      <td>0.9048</td>\n",
       "    </tr>\n",
       "  </tbody>\n",
       "</table>\n",
       "</div>"
      ],
      "text/plain": [
       "  1. symbol                  2. name 3. type       4. region 5. marketOpen  \\\n",
       "0  SBIN.BSE      State Bank of India  Equity    India/Bombay         09:15   \n",
       "1     SBKFF      State Bank of India  Equity   United States         09:30   \n",
       "2   SID.FRK      State Bank of India  Equity       Frankfurt         08:00   \n",
       "3  SBID.LON  State Bank of India GDR  Equity  United Kingdom         08:00   \n",
       "\n",
       "  6. marketClose 7. timezone 8. currency 9. matchScore  \n",
       "0          15:30     UTC+5.5         INR        1.0000  \n",
       "1          16:00      UTC-04         USD        1.0000  \n",
       "2          20:00      UTC+02         EUR        1.0000  \n",
       "3          16:30      UTC+01         USD        0.9048  "
      ]
     },
     "execution_count": 6,
     "metadata": {},
     "output_type": "execute_result"
    }
   ],
   "source": [
    "import requests\n",
    "import pandas as pd\n",
    "\n",
    "url = \"https://alpha-vantage.p.rapidapi.com/query\"\n",
    "\n",
    "querystring = {\n",
    "    \"datatype\": \"json\",\n",
    "    \"keywords\": \"State Bank of India\",\n",
    "    \"function\": \"SYMBOL_SEARCH\",\n",
    "}\n",
    "\n",
    "headers = {\"x-rapidapi-key\": api_key, \"x-rapidapi-host\": \"alpha-vantage.p.rapidapi.com\"}\n",
    "\n",
    "response = requests.get(url, headers=headers, params=querystring)\n",
    "\n",
    "data = response.json()[\"bestMatches\"]\n",
    "\n",
    "res = pd.DataFrame(data)\n",
    "\n",
    "res"
   ]
  },
  {
   "cell_type": "markdown",
   "id": "f0b83f43",
   "metadata": {},
   "source": [
    "### Getting acutal data for SBIN.BSE"
   ]
  },
  {
   "cell_type": "code",
   "execution_count": 15,
   "id": "ede16d70",
   "metadata": {},
   "outputs": [
    {
     "data": {
      "text/html": [
       "<div>\n",
       "<style scoped>\n",
       "    .dataframe tbody tr th:only-of-type {\n",
       "        vertical-align: middle;\n",
       "    }\n",
       "\n",
       "    .dataframe tbody tr th {\n",
       "        vertical-align: top;\n",
       "    }\n",
       "\n",
       "    .dataframe thead th {\n",
       "        text-align: right;\n",
       "    }\n",
       "</style>\n",
       "<table border=\"1\" class=\"dataframe\">\n",
       "  <thead>\n",
       "    <tr style=\"text-align: right;\">\n",
       "      <th></th>\n",
       "      <th>1. open</th>\n",
       "      <th>2. high</th>\n",
       "      <th>3. low</th>\n",
       "      <th>4. close</th>\n",
       "      <th>5. volume</th>\n",
       "    </tr>\n",
       "  </thead>\n",
       "  <tbody>\n",
       "    <tr>\n",
       "      <th>2025-05-02</th>\n",
       "      <td>792.05</td>\n",
       "      <td>802.95</td>\n",
       "      <td>789.25</td>\n",
       "      <td>800.05</td>\n",
       "      <td>335006.0</td>\n",
       "    </tr>\n",
       "    <tr>\n",
       "      <th>2025-04-30</th>\n",
       "      <td>812.85</td>\n",
       "      <td>812.85</td>\n",
       "      <td>784.45</td>\n",
       "      <td>788.15</td>\n",
       "      <td>412886.0</td>\n",
       "    </tr>\n",
       "    <tr>\n",
       "      <th>2025-04-29</th>\n",
       "      <td>820.00</td>\n",
       "      <td>829.00</td>\n",
       "      <td>808.75</td>\n",
       "      <td>811.75</td>\n",
       "      <td>699284.0</td>\n",
       "    </tr>\n",
       "    <tr>\n",
       "      <th>2025-04-28</th>\n",
       "      <td>796.30</td>\n",
       "      <td>822.50</td>\n",
       "      <td>796.30</td>\n",
       "      <td>817.60</td>\n",
       "      <td>1068737.0</td>\n",
       "    </tr>\n",
       "    <tr>\n",
       "      <th>2025-04-25</th>\n",
       "      <td>813.60</td>\n",
       "      <td>819.10</td>\n",
       "      <td>787.10</td>\n",
       "      <td>798.75</td>\n",
       "      <td>383883.0</td>\n",
       "    </tr>\n",
       "    <tr>\n",
       "      <th>...</th>\n",
       "      <td>...</td>\n",
       "      <td>...</td>\n",
       "      <td>...</td>\n",
       "      <td>...</td>\n",
       "      <td>...</td>\n",
       "    </tr>\n",
       "    <tr>\n",
       "      <th>2024-12-10</th>\n",
       "      <td>862.00</td>\n",
       "      <td>868.85</td>\n",
       "      <td>858.50</td>\n",
       "      <td>867.60</td>\n",
       "      <td>197287.0</td>\n",
       "    </tr>\n",
       "    <tr>\n",
       "      <th>2024-12-09</th>\n",
       "      <td>862.95</td>\n",
       "      <td>866.80</td>\n",
       "      <td>856.75</td>\n",
       "      <td>857.85</td>\n",
       "      <td>646144.0</td>\n",
       "    </tr>\n",
       "    <tr>\n",
       "      <th>2024-12-06</th>\n",
       "      <td>866.95</td>\n",
       "      <td>875.50</td>\n",
       "      <td>856.85</td>\n",
       "      <td>864.00</td>\n",
       "      <td>431320.0</td>\n",
       "    </tr>\n",
       "    <tr>\n",
       "      <th>2024-12-05</th>\n",
       "      <td>861.65</td>\n",
       "      <td>871.00</td>\n",
       "      <td>855.65</td>\n",
       "      <td>864.85</td>\n",
       "      <td>379508.0</td>\n",
       "    </tr>\n",
       "    <tr>\n",
       "      <th>2024-12-04</th>\n",
       "      <td>854.40</td>\n",
       "      <td>863.80</td>\n",
       "      <td>850.25</td>\n",
       "      <td>859.45</td>\n",
       "      <td>679548.0</td>\n",
       "    </tr>\n",
       "  </tbody>\n",
       "</table>\n",
       "<p>100 rows × 5 columns</p>\n",
       "</div>"
      ],
      "text/plain": [
       "            1. open  2. high  3. low  4. close  5. volume\n",
       "2025-05-02   792.05   802.95  789.25    800.05   335006.0\n",
       "2025-04-30   812.85   812.85  784.45    788.15   412886.0\n",
       "2025-04-29   820.00   829.00  808.75    811.75   699284.0\n",
       "2025-04-28   796.30   822.50  796.30    817.60  1068737.0\n",
       "2025-04-25   813.60   819.10  787.10    798.75   383883.0\n",
       "...             ...      ...     ...       ...        ...\n",
       "2024-12-10   862.00   868.85  858.50    867.60   197287.0\n",
       "2024-12-09   862.95   866.80  856.75    857.85   646144.0\n",
       "2024-12-06   866.95   875.50  856.85    864.00   431320.0\n",
       "2024-12-05   861.65   871.00  855.65    864.85   379508.0\n",
       "2024-12-04   854.40   863.80  850.25    859.45   679548.0\n",
       "\n",
       "[100 rows x 5 columns]"
      ]
     },
     "execution_count": 15,
     "metadata": {},
     "output_type": "execute_result"
    }
   ],
   "source": [
    "url = \"https://alpha-vantage.p.rapidapi.com/query\"\n",
    "\n",
    "querystring = {\n",
    "    \"function\": \"TIME_SERIES_DAILY\",\n",
    "    \"symbol\": \"SBIN.BSE\",\n",
    "    \"outputsize\": \"compact\",\n",
    "    \"datatype\": \"json\",\n",
    "}\n",
    "\n",
    "headers = {\n",
    "    \"x-rapidapi-key\": \"c86d19dba2msh0b9382a7f87c6a3p1f2116jsn57da44b7b1b0\",\n",
    "    \"x-rapidapi-host\": \"alpha-vantage.p.rapidapi.com\",\n",
    "}\n",
    "\n",
    "response = requests.get(url, headers=headers, params=querystring)\n",
    "\n",
    "data2 = response.json()[\"Time Series (Daily)\"]\n",
    "res2 = pd.DataFrame(data2).T\n",
    "\n",
    "# Convert output to float\n",
    "res2 = res2.astype(float)\n",
    "\n",
    "# Conert to index to datetime\n",
    "res2.index = pd.to_datetime(res2.index)\n",
    "\n",
    "res2"
   ]
  },
  {
   "cell_type": "code",
   "execution_count": 16,
   "id": "01f23796",
   "metadata": {},
   "outputs": [
    {
     "data": {
      "text/plain": [
       "1. open      float64\n",
       "2. high      float64\n",
       "3. low       float64\n",
       "4. close     float64\n",
       "5. volume    float64\n",
       "dtype: object"
      ]
     },
     "execution_count": 16,
     "metadata": {},
     "output_type": "execute_result"
    }
   ],
   "source": [
    "res2.dtypes"
   ]
  },
  {
   "cell_type": "code",
   "execution_count": 17,
   "id": "92a34808",
   "metadata": {},
   "outputs": [
    {
     "data": {
      "text/plain": [
       "DatetimeIndex(['2025-05-02', '2025-04-30', '2025-04-29', '2025-04-28',\n",
       "               '2025-04-25', '2025-04-24', '2025-04-23', '2025-04-22',\n",
       "               '2025-04-21', '2025-04-17', '2025-04-16', '2025-04-15',\n",
       "               '2025-04-11', '2025-04-09', '2025-04-08', '2025-04-07',\n",
       "               '2025-04-04', '2025-04-03', '2025-04-02', '2025-04-01',\n",
       "               '2025-03-28', '2025-03-27', '2025-03-26', '2025-03-25',\n",
       "               '2025-03-24', '2025-03-21', '2025-03-20', '2025-03-19',\n",
       "               '2025-03-18', '2025-03-17', '2025-03-13', '2025-03-12',\n",
       "               '2025-03-11', '2025-03-10', '2025-03-07', '2025-03-06',\n",
       "               '2025-03-05', '2025-03-04', '2025-03-03', '2025-02-28',\n",
       "               '2025-02-27', '2025-02-25', '2025-02-24', '2025-02-21',\n",
       "               '2025-02-20', '2025-02-19', '2025-02-18', '2025-02-17',\n",
       "               '2025-02-14', '2025-02-13', '2025-02-12', '2025-02-11',\n",
       "               '2025-02-10', '2025-02-07', '2025-02-06', '2025-02-05',\n",
       "               '2025-02-04', '2025-02-03', '2025-01-31', '2025-01-30',\n",
       "               '2025-01-29', '2025-01-28', '2025-01-27', '2025-01-24',\n",
       "               '2025-01-23', '2025-01-22', '2025-01-21', '2025-01-20',\n",
       "               '2025-01-17', '2025-01-16', '2025-01-15', '2025-01-14',\n",
       "               '2025-01-13', '2025-01-10', '2025-01-09', '2025-01-08',\n",
       "               '2025-01-07', '2025-01-06', '2025-01-03', '2025-01-02',\n",
       "               '2025-01-01', '2024-12-31', '2024-12-30', '2024-12-27',\n",
       "               '2024-12-26', '2024-12-24', '2024-12-23', '2024-12-20',\n",
       "               '2024-12-19', '2024-12-18', '2024-12-17', '2024-12-16',\n",
       "               '2024-12-13', '2024-12-12', '2024-12-11', '2024-12-10',\n",
       "               '2024-12-09', '2024-12-06', '2024-12-05', '2024-12-04'],\n",
       "              dtype='datetime64[ns]', freq=None)"
      ]
     },
     "execution_count": 17,
     "metadata": {},
     "output_type": "execute_result"
    }
   ],
   "source": [
    "res2.index"
   ]
  },
  {
   "cell_type": "code",
   "execution_count": 18,
   "id": "92c7aeb5",
   "metadata": {},
   "outputs": [],
   "source": [
    "res2.to_csv(\"SBIN.csv\")"
   ]
  },
  {
   "cell_type": "markdown",
   "id": "c33047a2",
   "metadata": {},
   "source": [
    "### Plotting the candlestick chart"
   ]
  },
  {
   "cell_type": "code",
   "execution_count": null,
   "id": "808473b8",
   "metadata": {},
   "outputs": [],
   "source": []
  }
 ],
 "metadata": {
  "kernelspec": {
   "display_name": ".venv",
   "language": "python",
   "name": "python3"
  },
  "language_info": {
   "codemirror_mode": {
    "name": "ipython",
    "version": 3
   },
   "file_extension": ".py",
   "mimetype": "text/x-python",
   "name": "python",
   "nbconvert_exporter": "python",
   "pygments_lexer": "ipython3",
   "version": "3.12.1"
  }
 },
 "nbformat": 4,
 "nbformat_minor": 5
}
