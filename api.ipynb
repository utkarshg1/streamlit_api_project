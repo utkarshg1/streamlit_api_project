{
 "cells": [
  {
   "cell_type": "markdown",
   "id": "e9b5b9e7",
   "metadata": {},
   "source": [
    "# Stock Market API Project"
   ]
  },
  {
   "cell_type": "code",
   "execution_count": 1,
   "id": "2f6bad9c",
   "metadata": {},
   "outputs": [],
   "source": [
    "import streamlit as st"
   ]
  },
  {
   "cell_type": "code",
   "execution_count": 2,
   "id": "efafd181",
   "metadata": {},
   "outputs": [],
   "source": [
    "api_key = st.secrets[\"API_KEY\"]"
   ]
  },
  {
   "cell_type": "markdown",
   "id": "7576a8ba",
   "metadata": {},
   "source": [
    "# Symbol Search"
   ]
  },
  {
   "cell_type": "code",
   "execution_count": 6,
   "id": "d4e89532",
   "metadata": {},
   "outputs": [
    {
     "data": {
      "text/html": [
       "<div>\n",
       "<style scoped>\n",
       "    .dataframe tbody tr th:only-of-type {\n",
       "        vertical-align: middle;\n",
       "    }\n",
       "\n",
       "    .dataframe tbody tr th {\n",
       "        vertical-align: top;\n",
       "    }\n",
       "\n",
       "    .dataframe thead th {\n",
       "        text-align: right;\n",
       "    }\n",
       "</style>\n",
       "<table border=\"1\" class=\"dataframe\">\n",
       "  <thead>\n",
       "    <tr style=\"text-align: right;\">\n",
       "      <th></th>\n",
       "      <th>1. symbol</th>\n",
       "      <th>2. name</th>\n",
       "      <th>3. type</th>\n",
       "      <th>4. region</th>\n",
       "      <th>5. marketOpen</th>\n",
       "      <th>6. marketClose</th>\n",
       "      <th>7. timezone</th>\n",
       "      <th>8. currency</th>\n",
       "      <th>9. matchScore</th>\n",
       "    </tr>\n",
       "  </thead>\n",
       "  <tbody>\n",
       "    <tr>\n",
       "      <th>0</th>\n",
       "      <td>SBIN.BSE</td>\n",
       "      <td>State Bank of India</td>\n",
       "      <td>Equity</td>\n",
       "      <td>India/Bombay</td>\n",
       "      <td>09:15</td>\n",
       "      <td>15:30</td>\n",
       "      <td>UTC+5.5</td>\n",
       "      <td>INR</td>\n",
       "      <td>1.0000</td>\n",
       "    </tr>\n",
       "    <tr>\n",
       "      <th>1</th>\n",
       "      <td>SBKFF</td>\n",
       "      <td>State Bank of India</td>\n",
       "      <td>Equity</td>\n",
       "      <td>United States</td>\n",
       "      <td>09:30</td>\n",
       "      <td>16:00</td>\n",
       "      <td>UTC-04</td>\n",
       "      <td>USD</td>\n",
       "      <td>1.0000</td>\n",
       "    </tr>\n",
       "    <tr>\n",
       "      <th>2</th>\n",
       "      <td>SID.FRK</td>\n",
       "      <td>State Bank of India</td>\n",
       "      <td>Equity</td>\n",
       "      <td>Frankfurt</td>\n",
       "      <td>08:00</td>\n",
       "      <td>20:00</td>\n",
       "      <td>UTC+02</td>\n",
       "      <td>EUR</td>\n",
       "      <td>1.0000</td>\n",
       "    </tr>\n",
       "    <tr>\n",
       "      <th>3</th>\n",
       "      <td>SBID.LON</td>\n",
       "      <td>State Bank of India GDR</td>\n",
       "      <td>Equity</td>\n",
       "      <td>United Kingdom</td>\n",
       "      <td>08:00</td>\n",
       "      <td>16:30</td>\n",
       "      <td>UTC+01</td>\n",
       "      <td>USD</td>\n",
       "      <td>0.9048</td>\n",
       "    </tr>\n",
       "  </tbody>\n",
       "</table>\n",
       "</div>"
      ],
      "text/plain": [
       "  1. symbol                  2. name 3. type       4. region 5. marketOpen  \\\n",
       "0  SBIN.BSE      State Bank of India  Equity    India/Bombay         09:15   \n",
       "1     SBKFF      State Bank of India  Equity   United States         09:30   \n",
       "2   SID.FRK      State Bank of India  Equity       Frankfurt         08:00   \n",
       "3  SBID.LON  State Bank of India GDR  Equity  United Kingdom         08:00   \n",
       "\n",
       "  6. marketClose 7. timezone 8. currency 9. matchScore  \n",
       "0          15:30     UTC+5.5         INR        1.0000  \n",
       "1          16:00      UTC-04         USD        1.0000  \n",
       "2          20:00      UTC+02         EUR        1.0000  \n",
       "3          16:30      UTC+01         USD        0.9048  "
      ]
     },
     "execution_count": 6,
     "metadata": {},
     "output_type": "execute_result"
    }
   ],
   "source": [
    "import requests\n",
    "import pandas as pd\n",
    "\n",
    "url = \"https://alpha-vantage.p.rapidapi.com/query\"\n",
    "\n",
    "querystring = {\n",
    "    \"datatype\": \"json\",\n",
    "    \"keywords\": \"State Bank of India\",\n",
    "    \"function\": \"SYMBOL_SEARCH\",\n",
    "}\n",
    "\n",
    "headers = {\"x-rapidapi-key\": api_key, \"x-rapidapi-host\": \"alpha-vantage.p.rapidapi.com\"}\n",
    "\n",
    "response = requests.get(url, headers=headers, params=querystring)\n",
    "\n",
    "data = response.json()[\"bestMatches\"]\n",
    "\n",
    "res = pd.DataFrame(data)\n",
    "\n",
    "res"
   ]
  },
  {
   "cell_type": "markdown",
   "id": "f0b83f43",
   "metadata": {},
   "source": [
    "### Getting acutal data for SBIN.BSE"
   ]
  },
  {
   "cell_type": "code",
   "execution_count": null,
   "id": "ede16d70",
   "metadata": {},
   "outputs": [
    {
     "data": {
      "text/html": [
       "<div>\n",
       "<style scoped>\n",
       "    .dataframe tbody tr th:only-of-type {\n",
       "        vertical-align: middle;\n",
       "    }\n",
       "\n",
       "    .dataframe tbody tr th {\n",
       "        vertical-align: top;\n",
       "    }\n",
       "\n",
       "    .dataframe thead th {\n",
       "        text-align: right;\n",
       "    }\n",
       "</style>\n",
       "<table border=\"1\" class=\"dataframe\">\n",
       "  <thead>\n",
       "    <tr style=\"text-align: right;\">\n",
       "      <th></th>\n",
       "      <th>1. open</th>\n",
       "      <th>2. high</th>\n",
       "      <th>3. low</th>\n",
       "      <th>4. close</th>\n",
       "      <th>5. volume</th>\n",
       "    </tr>\n",
       "  </thead>\n",
       "  <tbody>\n",
       "    <tr>\n",
       "      <th>2025-05-02</th>\n",
       "      <td>792.05</td>\n",
       "      <td>802.95</td>\n",
       "      <td>789.25</td>\n",
       "      <td>800.05</td>\n",
       "      <td>335006.0</td>\n",
       "    </tr>\n",
       "    <tr>\n",
       "      <th>2025-04-30</th>\n",
       "      <td>812.85</td>\n",
       "      <td>812.85</td>\n",
       "      <td>784.45</td>\n",
       "      <td>788.15</td>\n",
       "      <td>412886.0</td>\n",
       "    </tr>\n",
       "    <tr>\n",
       "      <th>2025-04-29</th>\n",
       "      <td>820.00</td>\n",
       "      <td>829.00</td>\n",
       "      <td>808.75</td>\n",
       "      <td>811.75</td>\n",
       "      <td>699284.0</td>\n",
       "    </tr>\n",
       "    <tr>\n",
       "      <th>2025-04-28</th>\n",
       "      <td>796.30</td>\n",
       "      <td>822.50</td>\n",
       "      <td>796.30</td>\n",
       "      <td>817.60</td>\n",
       "      <td>1068737.0</td>\n",
       "    </tr>\n",
       "    <tr>\n",
       "      <th>2025-04-25</th>\n",
       "      <td>813.60</td>\n",
       "      <td>819.10</td>\n",
       "      <td>787.10</td>\n",
       "      <td>798.75</td>\n",
       "      <td>383883.0</td>\n",
       "    </tr>\n",
       "    <tr>\n",
       "      <th>...</th>\n",
       "      <td>...</td>\n",
       "      <td>...</td>\n",
       "      <td>...</td>\n",
       "      <td>...</td>\n",
       "      <td>...</td>\n",
       "    </tr>\n",
       "    <tr>\n",
       "      <th>2024-12-10</th>\n",
       "      <td>862.00</td>\n",
       "      <td>868.85</td>\n",
       "      <td>858.50</td>\n",
       "      <td>867.60</td>\n",
       "      <td>197287.0</td>\n",
       "    </tr>\n",
       "    <tr>\n",
       "      <th>2024-12-09</th>\n",
       "      <td>862.95</td>\n",
       "      <td>866.80</td>\n",
       "      <td>856.75</td>\n",
       "      <td>857.85</td>\n",
       "      <td>646144.0</td>\n",
       "    </tr>\n",
       "    <tr>\n",
       "      <th>2024-12-06</th>\n",
       "      <td>866.95</td>\n",
       "      <td>875.50</td>\n",
       "      <td>856.85</td>\n",
       "      <td>864.00</td>\n",
       "      <td>431320.0</td>\n",
       "    </tr>\n",
       "    <tr>\n",
       "      <th>2024-12-05</th>\n",
       "      <td>861.65</td>\n",
       "      <td>871.00</td>\n",
       "      <td>855.65</td>\n",
       "      <td>864.85</td>\n",
       "      <td>379508.0</td>\n",
       "    </tr>\n",
       "    <tr>\n",
       "      <th>2024-12-04</th>\n",
       "      <td>854.40</td>\n",
       "      <td>863.80</td>\n",
       "      <td>850.25</td>\n",
       "      <td>859.45</td>\n",
       "      <td>679548.0</td>\n",
       "    </tr>\n",
       "  </tbody>\n",
       "</table>\n",
       "<p>100 rows × 5 columns</p>\n",
       "</div>"
      ],
      "text/plain": [
       "            1. open  2. high  3. low  4. close  5. volume\n",
       "2025-05-02   792.05   802.95  789.25    800.05   335006.0\n",
       "2025-04-30   812.85   812.85  784.45    788.15   412886.0\n",
       "2025-04-29   820.00   829.00  808.75    811.75   699284.0\n",
       "2025-04-28   796.30   822.50  796.30    817.60  1068737.0\n",
       "2025-04-25   813.60   819.10  787.10    798.75   383883.0\n",
       "...             ...      ...     ...       ...        ...\n",
       "2024-12-10   862.00   868.85  858.50    867.60   197287.0\n",
       "2024-12-09   862.95   866.80  856.75    857.85   646144.0\n",
       "2024-12-06   866.95   875.50  856.85    864.00   431320.0\n",
       "2024-12-05   861.65   871.00  855.65    864.85   379508.0\n",
       "2024-12-04   854.40   863.80  850.25    859.45   679548.0\n",
       "\n",
       "[100 rows x 5 columns]"
      ]
     },
     "execution_count": 15,
     "metadata": {},
     "output_type": "execute_result"
    }
   ],
   "source": [
    "url = \"https://alpha-vantage.p.rapidapi.com/query\"\n",
    "\n",
    "querystring = {\n",
    "    \"function\": \"TIME_SERIES_DAILY\",\n",
    "    \"symbol\": \"SBIN.BSE\",\n",
    "    \"outputsize\": \"compact\",\n",
    "    \"datatype\": \"json\",\n",
    "}\n",
    "\n",
    "headers = {\n",
    "    \"x-rapidapi-key\": api_key,\n",
    "    \"x-rapidapi-host\": \"alpha-vantage.p.rapidapi.com\",\n",
    "}\n",
    "\n",
    "response = requests.get(url, headers=headers, params=querystring)\n",
    "\n",
    "data2 = response.json()[\"Time Series (Daily)\"]\n",
    "res2 = pd.DataFrame(data2).T\n",
    "\n",
    "# Convert output to float\n",
    "res2 = res2.astype(float)\n",
    "\n",
    "# Conert to index to datetime\n",
    "res2.index = pd.to_datetime(res2.index)\n",
    "\n",
    "res2"
   ]
  },
  {
   "cell_type": "code",
   "execution_count": 16,
   "id": "01f23796",
   "metadata": {},
   "outputs": [
    {
     "data": {
      "text/plain": [
       "1. open      float64\n",
       "2. high      float64\n",
       "3. low       float64\n",
       "4. close     float64\n",
       "5. volume    float64\n",
       "dtype: object"
      ]
     },
     "execution_count": 16,
     "metadata": {},
     "output_type": "execute_result"
    }
   ],
   "source": [
    "res2.dtypes"
   ]
  },
  {
   "cell_type": "code",
   "execution_count": 17,
   "id": "92a34808",
   "metadata": {},
   "outputs": [
    {
     "data": {
      "text/plain": [
       "DatetimeIndex(['2025-05-02', '2025-04-30', '2025-04-29', '2025-04-28',\n",
       "               '2025-04-25', '2025-04-24', '2025-04-23', '2025-04-22',\n",
       "               '2025-04-21', '2025-04-17', '2025-04-16', '2025-04-15',\n",
       "               '2025-04-11', '2025-04-09', '2025-04-08', '2025-04-07',\n",
       "               '2025-04-04', '2025-04-03', '2025-04-02', '2025-04-01',\n",
       "               '2025-03-28', '2025-03-27', '2025-03-26', '2025-03-25',\n",
       "               '2025-03-24', '2025-03-21', '2025-03-20', '2025-03-19',\n",
       "               '2025-03-18', '2025-03-17', '2025-03-13', '2025-03-12',\n",
       "               '2025-03-11', '2025-03-10', '2025-03-07', '2025-03-06',\n",
       "               '2025-03-05', '2025-03-04', '2025-03-03', '2025-02-28',\n",
       "               '2025-02-27', '2025-02-25', '2025-02-24', '2025-02-21',\n",
       "               '2025-02-20', '2025-02-19', '2025-02-18', '2025-02-17',\n",
       "               '2025-02-14', '2025-02-13', '2025-02-12', '2025-02-11',\n",
       "               '2025-02-10', '2025-02-07', '2025-02-06', '2025-02-05',\n",
       "               '2025-02-04', '2025-02-03', '2025-01-31', '2025-01-30',\n",
       "               '2025-01-29', '2025-01-28', '2025-01-27', '2025-01-24',\n",
       "               '2025-01-23', '2025-01-22', '2025-01-21', '2025-01-20',\n",
       "               '2025-01-17', '2025-01-16', '2025-01-15', '2025-01-14',\n",
       "               '2025-01-13', '2025-01-10', '2025-01-09', '2025-01-08',\n",
       "               '2025-01-07', '2025-01-06', '2025-01-03', '2025-01-02',\n",
       "               '2025-01-01', '2024-12-31', '2024-12-30', '2024-12-27',\n",
       "               '2024-12-26', '2024-12-24', '2024-12-23', '2024-12-20',\n",
       "               '2024-12-19', '2024-12-18', '2024-12-17', '2024-12-16',\n",
       "               '2024-12-13', '2024-12-12', '2024-12-11', '2024-12-10',\n",
       "               '2024-12-09', '2024-12-06', '2024-12-05', '2024-12-04'],\n",
       "              dtype='datetime64[ns]', freq=None)"
      ]
     },
     "execution_count": 17,
     "metadata": {},
     "output_type": "execute_result"
    }
   ],
   "source": [
    "res2.index"
   ]
  },
  {
   "cell_type": "code",
   "execution_count": 18,
   "id": "92c7aeb5",
   "metadata": {},
   "outputs": [],
   "source": [
    "res2.to_csv(\"SBIN.csv\")"
   ]
  },
  {
   "cell_type": "markdown",
   "id": "c33047a2",
   "metadata": {},
   "source": [
    "### Plotting the candlestick chart"
   ]
  },
  {
   "attachments": {
    "image.png": {
     "image/png": "[encoded data removed]"
    }
   },
   "cell_type": "markdown",
   "id": "808473b8",
   "metadata": {},
   "source": [
    "![image.png](attachment:image.png)"
   ]
  },
  {
   "cell_type": "code",
   "execution_count": 19,
   "id": "07d1cca1",
   "metadata": {},
   "outputs": [],
   "source": [
    "import plotly.graph_objects as go"
   ]
  },
  {
   "cell_type": "code",
   "execution_count": 21,
   "id": "8421c8b0",
   "metadata": {},
   "outputs": [
    {
     "data": {
      "application/vnd.plotly.v1+json": {
       "config": {
        "plotlyServerURL": "https://plot.ly"
       },
       "data": [
        {
         "close": {
          "bdata": "ZmZmZmYAiUAzMzMzM6GIQAAAAAAAXolAzczMzMyMiUAAAAAAAPaIQJqZmZmZaYlAZmZmZmZqiUCamZmZmbOJQM3MzMzMhIlAzczMzMzoiEAAAAAAAB6IQGZmZmZm2odAZmZmZmaQh0BmZmZmZjCHQDMzMzMzA4hAAAAAAABWh0BmZmZmZv6HQJqZmZmZWYhAzczMzMw+iEAAAAAAAByIQM3MzMzMHIhAMzMzMzMjiEDNzMzMzNqHQGZmZmZmKIhAMzMzMzNriEAAAAAAAIiHQJqZmZmZaYdAZmZmZmZIh0BmZmZmZgiHQJqZmZmZlYZAAAAAAAC+hkAzMzMzM5eGQJqZmZmZz4ZAzczMzMzChkAAAAAAAOaGQJqZmZmZ34ZAAAAAAADShkAzMzMzM2GGQDMzMzMzuYVAAAAAAACChUCamZmZmf+FQAAAAAAAOIZAMzMzMzNjhkBmZmZmZoyGQDMzMzMzzYZAZmZmZma2hkAAAAAAAK6GQGZmZmZmwIZAAAAAAACQhkBmZmZmZrqGQAAAAAAA6oZAAAAAAADYhkDNzMzMzAaHQGZmZmZmCIdAzczMzMyCh0DNzMzMzPCHQJqZmZmZWYhAAAAAAADIh0DNzMzMzCiIQJqZmZmZ0YdAmpmZmZm1h0AzMzMzM32HQJqZmZmZaYdAzczMzMxCh0CamZmZmU+HQAAAAAAAiodAAAAAAAC4h0BmZmZmZliIQM3MzMzM4IdAMzMzMzPzh0AAAAAAAJCHQM3MzMzMYIdAzczMzMzMhkAzMzMzMzmHQM3MzMzMwodAmpmZmZkZiEAAAAAAAFiIQAAAAAAARohAAAAAAADMiEBmZmZmZgiJQM3MzMzMyohAZmZmZmbYiEBmZmZmZqKIQGZmZmZm/IhAMzMzMzNdiUDNzMzMzF6JQJqZmZmZp4lAAAAAAABkiUBmZmZmZgaKQGZmZmZmOIpAmpmZmZmRikCamZmZmeWKQJqZmZmZ7YpAAAAAAACuikBmZmZmZuyKQM3MzMzMHItAzczMzMzOikAAAAAAAACLQM3MzMzMBotAmpmZmZnbikA=",
          "dtype": "f8"
         },
         "high": {
          "bdata": "mpmZmZkXiUDNzMzMzGaJQAAAAAAA6IlAAAAAAAC0iUDNzMzMzJiJQDMzMzMzmYlAAAAAAADwiUAzMzMzMxuKQAAAAAAAwolAAAAAAAAIiUBmZmZmZjSIQM3MzMzMFIhAmpmZmZm/h0AAAAAAAAiIQM3MzMzMMIhAmpmZmZmHh0AAAAAAAHKIQM3MzMzMhohAZmZmZmZGiEAAAAAAAHSIQJqZmZmZU4hAAAAAAAA4iECamZmZmT+IQAAAAAAAkIhAMzMzMzN5iEAzMzMzM5uHQGZmZmZmhodAAAAAAABoh0AAAAAAABSHQJqZmZmZ14ZAmpmZmZnbhkAAAAAAAASHQDMzMzMz74ZAmpmZmZkTh0AzMzMzM/eGQJqZmZmZD4dAAAAAAADYhkAzMzMzM3GGQM3MzMzMxoVAZmZmZmbuhUAzMzMzM2eGQAAAAAAAeIZAZmZmZmZ+hkAAAAAAAOCGQGZmZmZm3oZAAAAAAAD2hkCamZmZmb+GQJqZmZmZx4ZAmpmZmZnlhkBmZmZmZgqHQGZmZmZmEodAAAAAAAAgh0BmZmZmZkCHQGZmZmZmzodAmpmZmZkXiEDNzMzMzGyIQM3MzMzMZohAMzMzMzPdh0AAAAAAAE6IQM3MzMzM5odAAAAAAADCh0DNzMzMzLyHQGZmZmZmmodAAAAAAACOh0BmZmZmZp6HQM3MzMzM1odAZmZmZmaKiECamZmZmYeIQM3MzMzM/odAZmZmZmZEiEDNzMzMzLaHQDMzMzMzp4dAzczMzMw+h0BmZmZmZsaHQJqZmZmZH4hAAAAAAAB0iEAAAAAAAH6IQAAAAAAA8IhAmpmZmZlNiUAzMzMzMxOJQAAAAAAA9IhAmpmZmZn3iEAAAAAAAECJQAAAAAAAlolAmpmZmZm3iUBmZmZmZsyJQDMzMzMzv4lAMzMzMzMjikAzMzMzMy+KQGZmZmZmlopAmpmZmZn3ikCamZmZmRGLQAAAAAAA+IpAmpmZmZkBi0AAAAAAAC6LQM3MzMzMJotAZmZmZmYWi0AAAAAAAFyLQAAAAAAAOItAZmZmZmb+ikA=",
          "dtype": "f8"
         },
         "low": {
          "bdata": "AAAAAACqiECamZmZmYOIQAAAAAAARolAZmZmZmbiiEDNzMzMzJiIQAAAAAAAWIlAmpmZmZlPiUBmZmZmZm6JQM3MzMzMDIlAAAAAAAD6h0AzMzMzM8OHQDMzMzMzrYdAMzMzMzNRh0AAAAAAACaHQAAAAAAAqIdAmpmZmZnXhkAAAAAAAOiHQAAAAAAAEIhAZmZmZmbih0BmZmZmZtiHQAAAAAAAAIhAAAAAAADGh0BmZmZmZs6HQDMzMzMzDYhAZmZmZmaYh0CamZmZmVmHQJqZmZmZQYdAAAAAAAAah0AAAAAAAJiGQM3MzMzMkIZAzczMzMyihkCamZmZmXmGQAAAAAAAlIZAZmZmZma4hkCamZmZmb+GQM3MzMzMuIZAZmZmZmZuhkAzMzMzM6GFQDMzMzMzPYVAzczMzMxWhUAAAAAAAOiFQJqZmZmZL4ZAMzMzMzM3hkAAAAAAAICGQGZmZmZmmIZAzczMzMyQhkCamZmZmWuGQDMzMzMzO4ZAMzMzMzNhhkBmZmZmZrCGQAAAAAAAaoZAMzMzMzO3hkDNzMzMzOyGQGZmZmZm4IZAAAAAAABwh0AzMzMzM+WHQAAAAAAA8IdAmpmZmZmLh0DNzMzMzLqHQJqZmZmZlYdAZmZmZmZuh0AzMzMzM02HQAAAAAAAAIdAzczMzMwWh0BmZmZmZjqHQGZmZmZmEodAAAAAAACih0BmZmZmZuiHQJqZmZmZu4dAZmZmZmbAh0DNzMzMzHKHQM3MzMzM1IZAAAAAAACUhkAAAAAAADCHQDMzMzMzt4ZAzczMzMzAh0DNzMzMzDiIQGZmZmZmKohAAAAAAADCiEBmZmZmZpKIQM3MzMzMrIhAAAAAAACYiECamZmZmYmIQAAAAAAA6ohAAAAAAABAiUCamZmZmUmJQDMzMzMzY4lAAAAAAABQiUDNzMzMzKCJQJqZmZmZJYpAMzMzMzN5ikBmZmZmZs6KQAAAAAAAGIpAAAAAAACaikBmZmZmZuaKQAAAAAAA1IpAAAAAAADGikDNzMzMzMaKQDMzMzMzvYpAAAAAAACSikA=",
          "dtype": "f8"
         },
         "open": {
          "bdata": "ZmZmZmbAiEDNzMzMzGaJQAAAAAAAoIlAZmZmZmbiiEDNzMzMzGyJQGZmZmZmaolAzczMzMzOiUCamZmZmamJQAAAAAAAGIlAzczMzMwYiEAAAAAAAOCHQGZmZmZmAIhAmpmZmZm/h0BmZmZmZgaIQAAAAAAAqIdAZmZmZmbihkCamZmZmVmIQAAAAAAAEIhAAAAAAAAgiECamZmZmf+HQJqZmZmZFYhAmpmZmZnVh0BmZmZmZhKIQDMzMzMzg4hAAAAAAAC0h0AzMzMzM2mHQJqZmZmZb4dAMzMzMzMfh0AAAAAAALiGQAAAAAAAyIZAMzMzMzO3hkCamZmZmc+GQDMzMzMzp4ZAmpmZmZnnhkCamZmZmeeGQJqZmZmZD4dAzczMzMx2hkAzMzMzM6uFQAAAAAAAooVAZmZmZmbuhUAzMzMzM2eGQAAAAAAAeIZAMzMzMzNFhkCamZmZmcmGQGZmZmZmvoZAZmZmZmaWhkCamZmZmb+GQM3MzMzMjoZAmpmZmZnLhkAAAAAAAPiGQJqZmZmZ54ZAMzMzMzMRh0BmZmZmZiSHQGZmZmZmzodAMzMzMzMNiEBmZmZmZmaIQGZmZmZm8odAMzMzMzPdh0AAAAAAAOiHQDMzMzMzu4dAAAAAAACEh0CamZmZmaGHQAAAAAAAIIdAmpmZmZlZh0CamZmZmX+HQM3MzMzM1odAmpmZmZmHiEBmZmZmZuiHQDMzMzMz94dAMzMzMzPNh0CamZmZmY2HQM3MzMzM1IZAmpmZmZk3h0DNzMzMzMKHQJqZmZmZH4hAAAAAAABoiEBmZmZmZlCIQAAAAAAA8IhAMzMzMzMPiUAAAAAAANiIQM3MzMzM5ohAAAAAAACmiECamZmZmRWJQAAAAAAAiolAAAAAAABoiUAAAAAAAMiJQM3MzMzMkolAZmZmZmYOikBmZmZmZrCJQJqZmZmZkYpAAAAAAADeikAAAAAAANiKQJqZmZmZrYpAAAAAAAD0ikAAAAAAAA6LQAAAAAAA8IpAmpmZmZn3ikCamZmZmReLQDMzMzMz7YpAMzMzMzOzikA=",
          "dtype": "f8"
         },
         "type": "candlestick",
         "x": [
          "2025-05-02T00:00:00.000000000",
          "2025-04-30T00:00:00.000000000",
          "2025-04-29T00:00:00.000000000",
          "2025-04-28T00:00:00.000000000",
          "2025-04-25T00:00:00.000000000",
          "2025-04-24T00:00:00.000000000",
          "2025-04-23T00:00:00.000000000",
          "2025-04-22T00:00:00.000000000",
          "2025-04-21T00:00:00.000000000",
          "2025-04-17T00:00:00.000000000",
          "2025-04-16T00:00:00.000000000",
          "2025-04-15T00:00:00.000000000",
          "2025-04-11T00:00:00.000000000",
          "2025-04-09T00:00:00.000000000",
          "2025-04-08T00:00:00.000000000",
          "2025-04-07T00:00:00.000000000",
          "2025-04-04T00:00:00.000000000",
          "2025-04-03T00:00:00.000000000",
          "2025-04-02T00:00:00.000000000",
          "2025-04-01T00:00:00.000000000",
          "2025-03-28T00:00:00.000000000",
          "2025-03-27T00:00:00.000000000",
          "2025-03-26T00:00:00.000000000",
          "2025-03-25T00:00:00.000000000",
          "2025-03-24T00:00:00.000000000",
          "2025-03-21T00:00:00.000000000",
          "2025-03-20T00:00:00.000000000",
          "2025-03-19T00:00:00.000000000",
          "2025-03-18T00:00:00.000000000",
          "2025-03-17T00:00:00.000000000",
          "2025-03-13T00:00:00.000000000",
          "2025-03-12T00:00:00.000000000",
          "2025-03-11T00:00:00.000000000",
          "2025-03-10T00:00:00.000000000",
          "2025-03-07T00:00:00.000000000",
          "2025-03-06T00:00:00.000000000",
          "2025-03-05T00:00:00.000000000",
          "2025-03-04T00:00:00.000000000",
          "2025-03-03T00:00:00.000000000",
          "2025-02-28T00:00:00.000000000",
          "2025-02-27T00:00:00.000000000",
          "2025-02-25T00:00:00.000000000",
          "2025-02-24T00:00:00.000000000",
          "2025-02-21T00:00:00.000000000",
          "2025-02-20T00:00:00.000000000",
          "2025-02-19T00:00:00.000000000",
          "2025-02-18T00:00:00.000000000",
          "2025-02-17T00:00:00.000000000",
          "2025-02-14T00:00:00.000000000",
          "2025-02-13T00:00:00.000000000",
          "2025-02-12T00:00:00.000000000",
          "2025-02-11T00:00:00.000000000",
          "2025-02-10T00:00:00.000000000",
          "2025-02-07T00:00:00.000000000",
          "2025-02-06T00:00:00.000000000",
          "2025-02-05T00:00:00.000000000",
          "2025-02-04T00:00:00.000000000",
          "2025-02-03T00:00:00.000000000",
          "2025-01-31T00:00:00.000000000",
          "2025-01-30T00:00:00.000000000",
          "2025-01-29T00:00:00.000000000",
          "2025-01-28T00:00:00.000000000",
          "2025-01-27T00:00:00.000000000",
          "2025-01-24T00:00:00.000000000",
          "2025-01-23T00:00:00.000000000",
          "2025-01-22T00:00:00.000000000",
          "2025-01-21T00:00:00.000000000",
          "2025-01-20T00:00:00.000000000",
          "2025-01-17T00:00:00.000000000",
          "2025-01-16T00:00:00.000000000",
          "2025-01-15T00:00:00.000000000",
          "2025-01-14T00:00:00.000000000",
          "2025-01-13T00:00:00.000000000",
          "2025-01-10T00:00:00.000000000",
          "2025-01-09T00:00:00.000000000",
          "2025-01-08T00:00:00.000000000",
          "2025-01-07T00:00:00.000000000",
          "2025-01-06T00:00:00.000000000",
          "2025-01-03T00:00:00.000000000",
          "2025-01-02T00:00:00.000000000",
          "2025-01-01T00:00:00.000000000",
          "2024-12-31T00:00:00.000000000",
          "2024-12-30T00:00:00.000000000",
          "2024-12-27T00:00:00.000000000",
          "2024-12-26T00:00:00.000000000",
          "2024-12-24T00:00:00.000000000",
          "2024-12-23T00:00:00.000000000",
          "2024-12-20T00:00:00.000000000",
          "2024-12-19T00:00:00.000000000",
          "2024-12-18T00:00:00.000000000",
          "2024-12-17T00:00:00.000000000",
          "2024-12-16T00:00:00.000000000",
          "2024-12-13T00:00:00.000000000",
          "2024-12-12T00:00:00.000000000",
          "2024-12-11T00:00:00.000000000",
          "2024-12-10T00:00:00.000000000",
          "2024-12-09T00:00:00.000000000",
          "2024-12-06T00:00:00.000000000",
          "2024-12-05T00:00:00.000000000",
          "2024-12-04T00:00:00.000000000"
         ]
        }
       ],
       "layout": {
        "height": 800,
        "template": {
         "data": {
          "candlestick": [
           {
            "decreasing": {
             "line": {
              "color": "#000033"
             }
            },
            "increasing": {
             "line": {
              "color": "#000032"
             }
            },
            "type": "candlestick"
           }
          ],
          "contour": [
           {
            "colorscale": [
             [
              0,
              "#000011"
             ],
             [
              0.1111111111111111,
              "#000012"
             ],
             [
              0.2222222222222222,
              "#000013"
             ],
             [
              0.3333333333333333,
              "#000014"
             ],
             [
              0.4444444444444444,
              "#000015"
             ],
             [
              0.5555555555555556,
              "#000016"
             ],
             [
              0.6666666666666666,
              "#000017"
             ],
             [
              0.7777777777777778,
              "#000018"
             ],
             [
              0.8888888888888888,
              "#000019"
             ],
             [
              1,
              "#000020"
             ]
            ],
            "type": "contour"
           }
          ],
          "contourcarpet": [
           {
            "colorscale": [
             [
              0,
              "#000011"
             ],
             [
              0.1111111111111111,
              "#000012"
             ],
             [
              0.2222222222222222,
              "#000013"
             ],
             [
              0.3333333333333333,
              "#000014"
             ],
             [
              0.4444444444444444,
              "#000015"
             ],
             [
              0.5555555555555556,
              "#000016"
             ],
             [
              0.6666666666666666,
              "#000017"
             ],
             [
              0.7777777777777778,
              "#000018"
             ],
             [
              0.8888888888888888,
              "#000019"
             ],
             [
              1,
              "#000020"
             ]
            ],
            "type": "contourcarpet"
           }
          ],
          "heatmap": [
           {
            "colorscale": [
             [
              0,
              "#000011"
             ],
             [
              0.1111111111111111,
              "#000012"
             ],
             [
              0.2222222222222222,
              "#000013"
             ],
             [
              0.3333333333333333,
              "#000014"
             ],
             [
              0.4444444444444444,
              "#000015"
             ],
             [
              0.5555555555555556,
              "#000016"
             ],
             [
              0.6666666666666666,
              "#000017"
             ],
             [
              0.7777777777777778,
              "#000018"
             ],
             [
              0.8888888888888888,
              "#000019"
             ],
             [
              1,
              "#000020"
             ]
            ],
            "type": "heatmap"
           }
          ],
          "histogram2d": [
           {
            "colorscale": [
             [
              0,
              "#000011"
             ],
             [
              0.1111111111111111,
              "#000012"
             ],
             [
              0.2222222222222222,
              "#000013"
             ],
             [
              0.3333333333333333,
              "#000014"
             ],
             [
              0.4444444444444444,
              "#000015"
             ],
             [
              0.5555555555555556,
              "#000016"
             ],
             [
              0.6666666666666666,
              "#000017"
             ],
             [
              0.7777777777777778,
              "#000018"
             ],
             [
              0.8888888888888888,
              "#000019"
             ],
             [
              1,
              "#000020"
             ]
            ],
            "type": "histogram2d"
           }
          ],
          "icicle": [
           {
            "textfont": {
             "color": "white"
            },
            "type": "icicle"
           }
          ],
          "sankey": [
           {
            "textfont": {
             "color": "#000036"
            },
            "type": "sankey"
           }
          ],
          "scatter": [
           {
            "marker": {
             "line": {
              "width": 0
             }
            },
            "type": "scatter"
           }
          ],
          "table": [
           {
            "cells": {
             "fill": {
              "color": "#000038"
             },
             "font": {
              "color": "#000037"
             },
             "line": {
              "color": "#000039"
             }
            },
            "header": {
             "fill": {
              "color": "#000040"
             },
             "font": {
              "color": "#000036"
             },
             "line": {
              "color": "#000039"
             }
            },
            "type": "table"
           }
          ],
          "waterfall": [
           {
            "connector": {
             "line": {
              "color": "#000036",
              "width": 2
             }
            },
            "decreasing": {
             "marker": {
              "color": "#000033"
             }
            },
            "increasing": {
             "marker": {
              "color": "#000032"
             }
            },
            "totals": {
             "marker": {
              "color": "#000034"
             }
            },
            "type": "waterfall"
           }
          ]
         },
         "layout": {
          "coloraxis": {
           "colorscale": [
            [
             0,
             "#000011"
            ],
            [
             0.1111111111111111,
             "#000012"
            ],
            [
             0.2222222222222222,
             "#000013"
            ],
            [
             0.3333333333333333,
             "#000014"
            ],
            [
             0.4444444444444444,
             "#000015"
            ],
            [
             0.5555555555555556,
             "#000016"
            ],
            [
             0.6666666666666666,
             "#000017"
            ],
            [
             0.7777777777777778,
             "#000018"
            ],
            [
             0.8888888888888888,
             "#000019"
            ],
            [
             1,
             "#000020"
            ]
           ]
          },
          "colorscale": {
           "diverging": [
            [
             0,
             "#000021"
            ],
            [
             0.1,
             "#000022"
            ],
            [
             0.2,
             "#000023"
            ],
            [
             0.3,
             "#000024"
            ],
            [
             0.4,
             "#000025"
            ],
            [
             0.5,
             "#000026"
            ],
            [
             0.6,
             "#000027"
            ],
            [
             0.7,
             "#000028"
            ],
            [
             0.8,
             "#000029"
            ],
            [
             0.9,
             "#000030"
            ],
            [
             1,
             "#000031"
            ]
           ],
           "sequential": [
            [
             0,
             "#000011"
            ],
            [
             0.1111111111111111,
             "#000012"
            ],
            [
             0.2222222222222222,
             "#000013"
            ],
            [
             0.3333333333333333,
             "#000014"
            ],
            [
             0.4444444444444444,
             "#000015"
            ],
            [
             0.5555555555555556,
             "#000016"
            ],
            [
             0.6666666666666666,
             "#000017"
            ],
            [
             0.7777777777777778,
             "#000018"
            ],
            [
             0.8888888888888888,
             "#000019"
            ],
            [
             1,
             "#000020"
            ]
           ],
           "sequentialminus": [
            [
             0,
             "#000011"
            ],
            [
             0.1111111111111111,
             "#000012"
            ],
            [
             0.2222222222222222,
             "#000013"
            ],
            [
             0.3333333333333333,
             "#000014"
            ],
            [
             0.4444444444444444,
             "#000015"
            ],
            [
             0.5555555555555556,
             "#000016"
            ],
            [
             0.6666666666666666,
             "#000017"
            ],
            [
             0.7777777777777778,
             "#000018"
            ],
            [
             0.8888888888888888,
             "#000019"
            ],
            [
             1,
             "#000020"
            ]
           ]
          },
          "colorway": [
           "#000001",
           "#000002",
           "#000003",
           "#000004",
           "#000005",
           "#000006",
           "#000007",
           "#000008",
           "#000009",
           "#000010"
          ]
         }
        },
        "width": 1000
       }
      }
     },
     "metadata": {},
     "output_type": "display_data"
    }
   ],
   "source": [
    "fig = go.Figure(\n",
    "    data=[\n",
    "        go.Candlestick(\n",
    "            x=res2.index,\n",
    "            open=res2[\"1. open\"],\n",
    "            high=res2[\"2. high\"],\n",
    "            low=res2[\"3. low\"],\n",
    "            close=res2[\"4. close\"],\n",
    "        )\n",
    "    ]\n",
    ")\n",
    "\n",
    "fig.update_layout({\"width\": 1000, \"height\": 800})\n",
    "\n",
    "fig.show()"
   ]
  },
  {
   "cell_type": "markdown",
   "id": "2de74e23",
   "metadata": {},
   "source": [
    "### Create a class to show data / plot for any stocks"
   ]
  },
  {
   "cell_type": "code",
   "execution_count": 22,
   "id": "d94bbf7e",
   "metadata": {},
   "outputs": [],
   "source": [
    "class StockAPI:\n",
    "\n",
    "    def __init__(self):\n",
    "        self.api_key = st.secrets[\"API_KEY\"]\n",
    "        self.url = \"https://alpha-vantage.p.rapidapi.com/query\"\n",
    "        self.headers = {\n",
    "            \"x-rapidapi-key\": self.api_key,\n",
    "            \"x-rapidapi-host\": \"alpha-vantage.p.rapidapi.com\",\n",
    "        }\n",
    "\n",
    "    def symbol_search(self, company: str) -> pd.DataFrame:\n",
    "        querystring = {\n",
    "            \"datatype\": \"json\",\n",
    "            \"keywords\": company,\n",
    "            \"function\": \"SYMBOL_SEARCH\",\n",
    "        }\n",
    "        response = requests.get(url=self.url, headers=self.headers, params=querystring)\n",
    "        data = response.json()[\"bestMatches\"]\n",
    "        return pd.DataFrame(data)\n",
    "\n",
    "    def stock_data(self, symbol: str) -> pd.DataFrame:\n",
    "        querystring = {\n",
    "            \"function\": \"TIME_SERIES_DAILY\",\n",
    "            \"symbol\": symbol,\n",
    "            \"outputsize\": \"compact\",\n",
    "            \"datatype\": \"json\",\n",
    "        }\n",
    "        response = requests.get(url=self.url, headers=self.headers, params=querystring)\n",
    "        data2 = response.json()[\"Time Series (Daily)\"]\n",
    "        res2 = pd.DataFrame(data2).T\n",
    "\n",
    "        # Convert output to float\n",
    "        res2 = res2.astype(float)\n",
    "\n",
    "        # Conert to index to datetime\n",
    "        res2.index = pd.to_datetime(res2.index)\n",
    "\n",
    "        return res2\n",
    "\n",
    "    def plot_chart(self, df: pd.DataFrame) -> go.Figure:\n",
    "        fig = go.Figure(\n",
    "            data=[\n",
    "                go.Candlestick(\n",
    "                    x=df.index,\n",
    "                    open=df[\"1. open\"],\n",
    "                    high=df[\"2. high\"],\n",
    "                    low=df[\"3. low\"],\n",
    "                    close=df[\"4. close\"],\n",
    "                )\n",
    "            ]\n",
    "        )\n",
    "\n",
    "        fig.update_layout({\"width\": 1000, \"height\": 800})\n",
    "        return fig"
   ]
  },
  {
   "cell_type": "code",
   "execution_count": 23,
   "id": "dd2546b5",
   "metadata": {},
   "outputs": [],
   "source": [
    "client = StockAPI()"
   ]
  },
  {
   "cell_type": "code",
   "execution_count": 24,
   "id": "e690ee97",
   "metadata": {},
   "outputs": [
    {
     "data": {
      "text/html": [
       "<div>\n",
       "<style scoped>\n",
       "    .dataframe tbody tr th:only-of-type {\n",
       "        vertical-align: middle;\n",
       "    }\n",
       "\n",
       "    .dataframe tbody tr th {\n",
       "        vertical-align: top;\n",
       "    }\n",
       "\n",
       "    .dataframe thead th {\n",
       "        text-align: right;\n",
       "    }\n",
       "</style>\n",
       "<table border=\"1\" class=\"dataframe\">\n",
       "  <thead>\n",
       "    <tr style=\"text-align: right;\">\n",
       "      <th></th>\n",
       "      <th>1. symbol</th>\n",
       "      <th>2. name</th>\n",
       "      <th>3. type</th>\n",
       "      <th>4. region</th>\n",
       "      <th>5. marketOpen</th>\n",
       "      <th>6. marketClose</th>\n",
       "      <th>7. timezone</th>\n",
       "      <th>8. currency</th>\n",
       "      <th>9. matchScore</th>\n",
       "    </tr>\n",
       "  </thead>\n",
       "  <tbody>\n",
       "    <tr>\n",
       "      <th>0</th>\n",
       "      <td>HDB</td>\n",
       "      <td>HDFC Bank Ltd</td>\n",
       "      <td>Equity</td>\n",
       "      <td>United States</td>\n",
       "      <td>09:30</td>\n",
       "      <td>16:00</td>\n",
       "      <td>UTC-04</td>\n",
       "      <td>USD</td>\n",
       "      <td>0.8182</td>\n",
       "    </tr>\n",
       "    <tr>\n",
       "      <th>1</th>\n",
       "      <td>HDFCBANK.BSE</td>\n",
       "      <td>HDFC Bank Limited</td>\n",
       "      <td>Equity</td>\n",
       "      <td>India/Bombay</td>\n",
       "      <td>09:15</td>\n",
       "      <td>15:30</td>\n",
       "      <td>UTC+5.5</td>\n",
       "      <td>INR</td>\n",
       "      <td>0.8000</td>\n",
       "    </tr>\n",
       "    <tr>\n",
       "      <th>2</th>\n",
       "      <td>H1DB34.SAO</td>\n",
       "      <td>HDFC Bank Limited</td>\n",
       "      <td>Equity</td>\n",
       "      <td>Brazil/Sao Paolo</td>\n",
       "      <td>10:00</td>\n",
       "      <td>17:30</td>\n",
       "      <td>UTC-03</td>\n",
       "      <td>BRL</td>\n",
       "      <td>0.6923</td>\n",
       "    </tr>\n",
       "    <tr>\n",
       "      <th>3</th>\n",
       "      <td>HDFA.FRK</td>\n",
       "      <td>HDFC Bank Limited</td>\n",
       "      <td>Equity</td>\n",
       "      <td>Frankfurt</td>\n",
       "      <td>08:00</td>\n",
       "      <td>20:00</td>\n",
       "      <td>UTC+02</td>\n",
       "      <td>EUR</td>\n",
       "      <td>0.6923</td>\n",
       "    </tr>\n",
       "  </tbody>\n",
       "</table>\n",
       "</div>"
      ],
      "text/plain": [
       "      1. symbol            2. name 3. type         4. region 5. marketOpen  \\\n",
       "0           HDB      HDFC Bank Ltd  Equity     United States         09:30   \n",
       "1  HDFCBANK.BSE  HDFC Bank Limited  Equity      India/Bombay         09:15   \n",
       "2    H1DB34.SAO  HDFC Bank Limited  Equity  Brazil/Sao Paolo         10:00   \n",
       "3      HDFA.FRK  HDFC Bank Limited  Equity         Frankfurt         08:00   \n",
       "\n",
       "  6. marketClose 7. timezone 8. currency 9. matchScore  \n",
       "0          16:00      UTC-04         USD        0.8182  \n",
       "1          15:30     UTC+5.5         INR        0.8000  \n",
       "2          17:30      UTC-03         BRL        0.6923  \n",
       "3          20:00      UTC+02         EUR        0.6923  "
      ]
     },
     "execution_count": 24,
     "metadata": {},
     "output_type": "execute_result"
    }
   ],
   "source": [
    "client.symbol_search(\"HDFC Bank\")"
   ]
  },
  {
   "cell_type": "code",
   "execution_count": 25,
   "id": "ef89a9df",
   "metadata": {},
   "outputs": [
    {
     "data": {
      "text/html": [
       "<div>\n",
       "<style scoped>\n",
       "    .dataframe tbody tr th:only-of-type {\n",
       "        vertical-align: middle;\n",
       "    }\n",
       "\n",
       "    .dataframe tbody tr th {\n",
       "        vertical-align: top;\n",
       "    }\n",
       "\n",
       "    .dataframe thead th {\n",
       "        text-align: right;\n",
       "    }\n",
       "</style>\n",
       "<table border=\"1\" class=\"dataframe\">\n",
       "  <thead>\n",
       "    <tr style=\"text-align: right;\">\n",
       "      <th></th>\n",
       "      <th>1. symbol</th>\n",
       "      <th>2. name</th>\n",
       "      <th>3. type</th>\n",
       "      <th>4. region</th>\n",
       "      <th>5. marketOpen</th>\n",
       "      <th>6. marketClose</th>\n",
       "      <th>7. timezone</th>\n",
       "      <th>8. currency</th>\n",
       "      <th>9. matchScore</th>\n",
       "    </tr>\n",
       "  </thead>\n",
       "  <tbody>\n",
       "    <tr>\n",
       "      <th>0</th>\n",
       "      <td>TSLA</td>\n",
       "      <td>Tesla Inc</td>\n",
       "      <td>Equity</td>\n",
       "      <td>United States</td>\n",
       "      <td>09:30</td>\n",
       "      <td>16:00</td>\n",
       "      <td>UTC-04</td>\n",
       "      <td>USD</td>\n",
       "      <td>0.8889</td>\n",
       "    </tr>\n",
       "    <tr>\n",
       "      <th>1</th>\n",
       "      <td>TL0.DEX</td>\n",
       "      <td>Tesla Inc</td>\n",
       "      <td>Equity</td>\n",
       "      <td>XETRA</td>\n",
       "      <td>08:00</td>\n",
       "      <td>20:00</td>\n",
       "      <td>UTC+02</td>\n",
       "      <td>EUR</td>\n",
       "      <td>0.7143</td>\n",
       "    </tr>\n",
       "    <tr>\n",
       "      <th>2</th>\n",
       "      <td>TL0.FRK</td>\n",
       "      <td>Tesla Inc</td>\n",
       "      <td>Equity</td>\n",
       "      <td>Frankfurt</td>\n",
       "      <td>08:00</td>\n",
       "      <td>20:00</td>\n",
       "      <td>UTC+02</td>\n",
       "      <td>EUR</td>\n",
       "      <td>0.7143</td>\n",
       "    </tr>\n",
       "    <tr>\n",
       "      <th>3</th>\n",
       "      <td>TSLA34.SAO</td>\n",
       "      <td>Tesla Inc</td>\n",
       "      <td>Equity</td>\n",
       "      <td>Brazil/Sao Paolo</td>\n",
       "      <td>10:00</td>\n",
       "      <td>17:30</td>\n",
       "      <td>UTC-03</td>\n",
       "      <td>BRL</td>\n",
       "      <td>0.7143</td>\n",
       "    </tr>\n",
       "    <tr>\n",
       "      <th>4</th>\n",
       "      <td>TSLA.TRT</td>\n",
       "      <td>Tesla CDR (CAD Hedged)</td>\n",
       "      <td>Equity</td>\n",
       "      <td>Toronto</td>\n",
       "      <td>09:30</td>\n",
       "      <td>16:00</td>\n",
       "      <td>UTC-05</td>\n",
       "      <td>CAD</td>\n",
       "      <td>0.6667</td>\n",
       "    </tr>\n",
       "    <tr>\n",
       "      <th>5</th>\n",
       "      <td>TL01.FRK</td>\n",
       "      <td>TESLA INC. CDR DL-001</td>\n",
       "      <td>Equity</td>\n",
       "      <td>Frankfurt</td>\n",
       "      <td>08:00</td>\n",
       "      <td>20:00</td>\n",
       "      <td>UTC+02</td>\n",
       "      <td>EUR</td>\n",
       "      <td>0.3846</td>\n",
       "    </tr>\n",
       "  </tbody>\n",
       "</table>\n",
       "</div>"
      ],
      "text/plain": [
       "    1. symbol                 2. name 3. type         4. region 5. marketOpen  \\\n",
       "0        TSLA               Tesla Inc  Equity     United States         09:30   \n",
       "1     TL0.DEX               Tesla Inc  Equity             XETRA         08:00   \n",
       "2     TL0.FRK               Tesla Inc  Equity         Frankfurt         08:00   \n",
       "3  TSLA34.SAO               Tesla Inc  Equity  Brazil/Sao Paolo         10:00   \n",
       "4    TSLA.TRT  Tesla CDR (CAD Hedged)  Equity           Toronto         09:30   \n",
       "5    TL01.FRK   TESLA INC. CDR DL-001  Equity         Frankfurt         08:00   \n",
       "\n",
       "  6. marketClose 7. timezone 8. currency 9. matchScore  \n",
       "0          16:00      UTC-04         USD        0.8889  \n",
       "1          20:00      UTC+02         EUR        0.7143  \n",
       "2          20:00      UTC+02         EUR        0.7143  \n",
       "3          17:30      UTC-03         BRL        0.7143  \n",
       "4          16:00      UTC-05         CAD        0.6667  \n",
       "5          20:00      UTC+02         EUR        0.3846  "
      ]
     },
     "execution_count": 25,
     "metadata": {},
     "output_type": "execute_result"
    }
   ],
   "source": [
    "client.symbol_search(\"Tesla\")"
   ]
  },
  {
   "cell_type": "code",
   "execution_count": 26,
   "id": "3de5732e",
   "metadata": {},
   "outputs": [
    {
     "data": {
      "text/html": [
       "<div>\n",
       "<style scoped>\n",
       "    .dataframe tbody tr th:only-of-type {\n",
       "        vertical-align: middle;\n",
       "    }\n",
       "\n",
       "    .dataframe tbody tr th {\n",
       "        vertical-align: top;\n",
       "    }\n",
       "\n",
       "    .dataframe thead th {\n",
       "        text-align: right;\n",
       "    }\n",
       "</style>\n",
       "<table border=\"1\" class=\"dataframe\">\n",
       "  <thead>\n",
       "    <tr style=\"text-align: right;\">\n",
       "      <th></th>\n",
       "      <th>1. open</th>\n",
       "      <th>2. high</th>\n",
       "      <th>3. low</th>\n",
       "      <th>4. close</th>\n",
       "      <th>5. volume</th>\n",
       "    </tr>\n",
       "  </thead>\n",
       "  <tbody>\n",
       "    <tr>\n",
       "      <th>2025-05-02</th>\n",
       "      <td>1930.00</td>\n",
       "      <td>1941.85</td>\n",
       "      <td>1920.60</td>\n",
       "      <td>1924.55</td>\n",
       "      <td>205709.0</td>\n",
       "    </tr>\n",
       "    <tr>\n",
       "      <th>2025-04-30</th>\n",
       "      <td>1914.45</td>\n",
       "      <td>1936.40</td>\n",
       "      <td>1910.20</td>\n",
       "      <td>1923.75</td>\n",
       "      <td>233615.0</td>\n",
       "    </tr>\n",
       "    <tr>\n",
       "      <th>2025-04-29</th>\n",
       "      <td>1924.85</td>\n",
       "      <td>1929.00</td>\n",
       "      <td>1900.00</td>\n",
       "      <td>1908.25</td>\n",
       "      <td>280226.0</td>\n",
       "    </tr>\n",
       "    <tr>\n",
       "      <th>2025-04-28</th>\n",
       "      <td>1910.00</td>\n",
       "      <td>1929.45</td>\n",
       "      <td>1909.95</td>\n",
       "      <td>1919.40</td>\n",
       "      <td>327548.0</td>\n",
       "    </tr>\n",
       "    <tr>\n",
       "      <th>2025-04-25</th>\n",
       "      <td>1922.05</td>\n",
       "      <td>1933.00</td>\n",
       "      <td>1891.90</td>\n",
       "      <td>1910.35</td>\n",
       "      <td>338662.0</td>\n",
       "    </tr>\n",
       "    <tr>\n",
       "      <th>...</th>\n",
       "      <td>...</td>\n",
       "      <td>...</td>\n",
       "      <td>...</td>\n",
       "      <td>...</td>\n",
       "      <td>...</td>\n",
       "    </tr>\n",
       "    <tr>\n",
       "      <th>2024-12-11</th>\n",
       "      <td>1865.00</td>\n",
       "      <td>1871.05</td>\n",
       "      <td>1857.00</td>\n",
       "      <td>1863.70</td>\n",
       "      <td>66488.0</td>\n",
       "    </tr>\n",
       "    <tr>\n",
       "      <th>2024-12-10</th>\n",
       "      <td>1870.25</td>\n",
       "      <td>1875.00</td>\n",
       "      <td>1858.65</td>\n",
       "      <td>1868.05</td>\n",
       "      <td>79717.0</td>\n",
       "    </tr>\n",
       "    <tr>\n",
       "      <th>2024-12-09</th>\n",
       "      <td>1853.05</td>\n",
       "      <td>1880.00</td>\n",
       "      <td>1849.55</td>\n",
       "      <td>1869.80</td>\n",
       "      <td>298070.0</td>\n",
       "    </tr>\n",
       "    <tr>\n",
       "      <th>2024-12-06</th>\n",
       "      <td>1859.75</td>\n",
       "      <td>1864.15</td>\n",
       "      <td>1843.70</td>\n",
       "      <td>1856.50</td>\n",
       "      <td>308836.0</td>\n",
       "    </tr>\n",
       "    <tr>\n",
       "      <th>2024-12-05</th>\n",
       "      <td>1862.00</td>\n",
       "      <td>1879.00</td>\n",
       "      <td>1835.90</td>\n",
       "      <td>1863.80</td>\n",
       "      <td>204004.0</td>\n",
       "    </tr>\n",
       "  </tbody>\n",
       "</table>\n",
       "<p>100 rows × 5 columns</p>\n",
       "</div>"
      ],
      "text/plain": [
       "            1. open  2. high   3. low  4. close  5. volume\n",
       "2025-05-02  1930.00  1941.85  1920.60   1924.55   205709.0\n",
       "2025-04-30  1914.45  1936.40  1910.20   1923.75   233615.0\n",
       "2025-04-29  1924.85  1929.00  1900.00   1908.25   280226.0\n",
       "2025-04-28  1910.00  1929.45  1909.95   1919.40   327548.0\n",
       "2025-04-25  1922.05  1933.00  1891.90   1910.35   338662.0\n",
       "...             ...      ...      ...       ...        ...\n",
       "2024-12-11  1865.00  1871.05  1857.00   1863.70    66488.0\n",
       "2024-12-10  1870.25  1875.00  1858.65   1868.05    79717.0\n",
       "2024-12-09  1853.05  1880.00  1849.55   1869.80   298070.0\n",
       "2024-12-06  1859.75  1864.15  1843.70   1856.50   308836.0\n",
       "2024-12-05  1862.00  1879.00  1835.90   1863.80   204004.0\n",
       "\n",
       "[100 rows x 5 columns]"
      ]
     },
     "execution_count": 26,
     "metadata": {},
     "output_type": "execute_result"
    }
   ],
   "source": [
    "df2 = client.stock_data(\"HDFCBANK.BSE\")\n",
    "df2"
   ]
  },
  {
   "cell_type": "code",
   "execution_count": 27,
   "id": "5cfbb80e",
   "metadata": {},
   "outputs": [
    {
     "data": {
      "application/vnd.plotly.v1+json": {
       "config": {
        "plotlyServerURL": "https://plot.ly"
       },
       "data": [
        {
         "close": {
          "bdata": "MzMzMzMSnkAAAAAAAA+eQAAAAAAA0Z1AmpmZmZn9nUBmZmZmZtmdQGZmZmZm8Z1AZmZmZmYMnkCamZmZmaeeQDMzMzMzHp5AMzMzMzPKnUCamZmZmVedQJqZmZmZI51AZmZmZmY6nEAAAAAAAJabQGZmZmZmpJtAmpmZmZl4m0AAAAAAAGScQM3MzMzMBpxAmpmZmZkVnEAzMzMzM52bQAAAAAAAkpxAAAAAAACFnEDNzMzMzDecQM3MzMzMdZxAmpmZmZkknEBmZmZmZqebQDMzMzMznZtAZmZmZmY/m0CamZmZmRSbQJqZmZmZt5pAMzMzMzOnmkBmZmZmZr+aQM3MzMzMU5pAMzMzMzNcmkBmZmZmZmWaQAAAAAAAZ5pAAAAAAABnmkCamZmZmbyaQAAAAAAAlZpAZmZmZmYMm0DNzMzMzI2aQGZmZmZmTppAAAAAAAAvmkAzMzMzM26aQJqZmZmZWZpAzczMzMz7mkAAAAAAAOqaQAAAAAAA1ZpAAAAAAAB8mkAAAAAAAIeaQDMzMzMzrJpAmpmZmZmPmkCamZmZmc2aQGZmZmZmEJtAzczMzMxCm0AAAAAAACabQAAAAAAA6ZpAmpmZmZlAmkBmZmZmZmeaQAAAAAAAjZpAZmZmZmZwmkBmZmZmZjSaQDMzMzMzGppAzczMzMx2mUAzMzMzM8aZQDMzMzMzA5pAMzMzMzMEmkAAAAAAAKeZQAAAAAAAzZlAzczMzMySmUAAAAAAANOZQAAAAAAAq5lAAAAAAACxmUBmZmZmZniZQJqZmZmZ5JlAAAAAAAAPmkCamZmZmXiaQGZmZmZmyJpAMzMzMzO5mkAzMzMzM1WbQGZmZmZmBZxAzczMzMzZm0DNzMzMzLGbQM3MzMzMyptAZmZmZmYXnEAAAAAAAP+bQJqZmZmZFpxAAAAAAAAknEAzMzMzM7CbQM3MzMzMBZxAzczMzMxMnEBmZmZmZqOcQDMzMzMzI51AMzMzMzNAnUDNzMzMzAudQM3MzMzMHp1AMzMzMzMwnUAzMzMzMzedQAAAAAAAAp1AMzMzMzMfnUA=",
          "dtype": "f8"
         },
         "high": {
          "bdata": "ZmZmZmZXnkCamZmZmUGeQAAAAAAAJJ5AzczMzMwlnkAAAAAAADSeQAAAAAAAEJ5AzczMzMznnkCamZmZmcqeQAAAAAAAeJ5AZmZmZmb9nUAzMzMzM2idQJqZmZmZT51AzczMzMxrnECamZmZmbWbQAAAAAAA2JtAZmZmZmbOm0DNzMzMzMicQGZmZmZmL5xAMzMzMzMdnEAAAAAAAEicQJqZmZmZsZxAAAAAAADCnEAAAAAAAI6cQJqZmZmZz5xAAAAAAAAwnEDNzMzMzLebQAAAAAAAtZtAZmZmZmZZm0AAAAAAACabQAAAAAAA8JpAAAAAAADimkAAAAAAANyaQJqZmZmZeZpAmpmZmZmNmkCamZmZmZOaQAAAAAAAkJpAmpmZmZm6mkDNzMzMzMqaQAAAAAAAPJtAMzMzMzMjm0AAAAAAALiaQAAAAAAAYJpAAAAAAABSmkAzMzMzM3uaQGZmZmZmzJpAmpmZmZknm0BmZmZmZg6bQAAAAAAA4JpAZmZmZmaRmkAAAAAAAMiaQGZmZmZmvppAMzMzMzO6mkAAAAAAAO+aQJqZmZmZnZtAzczMzMxNm0AAAAAAAECbQAAAAAAA+JpAmpmZmZlamkBmZmZmZsKaQAAAAAAAn5pAMzMzMzOBmkAzMzMzM0WaQAAAAAAAUJpAZmZmZmammUCamZmZmRqaQAAAAAAAVJpAZmZmZmYfmkDNzMzMzPGZQAAAAAAA85lAmpmZmZnImUAAAAAAAPCZQJqZmZmZ+plAAAAAAADhmUDNzMzMzLmZQAAAAAAALJpAmpmZmZlmmkAzMzMzM8CaQM3MzMzM5ZpAzczMzMx1m0AzMzMzMwucQAAAAAAALJxAmpmZmZkJnEBmZmZmZtWbQAAAAAAAXJxAAAAAAAAsnECamZmZmU2cQJqZmZmZOJxAmpmZmZk3nEBmZmZmZhWcQM3MzMzMIJxAmpmZmZmunEAAAAAAABmdQAAAAAAAOJ1AMzMzMzNKnUCamZmZmTKdQDMzMzMzPJ1AAAAAAABMnUAAAAAAAGCdQJqZmZmZIJ1AAAAAAABcnUA=",
          "dtype": "f8"
         },
         "low": {
          "bdata": "ZmZmZmYCnkDNzMzMzNidQAAAAAAAsJ1AzczMzMzXnUCamZmZmY+dQDMzMzMzvp1AzczMzMwAnkDNzMzMzDyeQGZmZmZm3p1AAAAAAABXnUAAAAAAABSdQM3MzMzM+ZxAAAAAAAC4m0DNzMzMzGWbQGZmZmZmWptAMzMzMzMom0DNzMzMzD+cQM3MzMzMwptAMzMzMzOdm0AAAAAAAJSbQAAAAAAAO5xAzczMzMwanEAAAAAAACqcQAAAAAAAJZxAzczMzMy1m0AzMzMzM1abQJqZmZmZVJtAAAAAAAAQm0AAAAAAAM6aQJqZmZmZpZpAAAAAAACQmkBmZmZmZmOaQDMzMzMzGZpAAAAAAABMmkBmZmZmZjWaQGZmZmZmIppAMzMzMzNhmkDNzMzMzHmaQJqZmZmZeJpAMzMzMzNFmkAzMzMzM06aQAAAAAAAIJpAZmZmZmb2mUAzMzMzMzeaQAAAAAAAVJpAMzMzMzPEmkBmZmZmZqmaQDMzMzMzRJpAMzMzMzM+mkCamZmZmXaaQDMzMzMzRppAzczMzMxgmkCamZmZmbOaQGZmZmZm9JpAMzMzMzPwmkDNzMzMzNqaQM3MzMzMQJpAMzMzMzMEmkAAAAAAADGaQDMzMzMzUJpAMzMzMzMmmkBmZmZmZhOaQAAAAAAAsJlAmpmZmZlpmUAAAAAAALSZQAAAAAAAz5lAMzMzMzNlmUAAAAAAAIOZQAAAAAAAcJlAAAAAAABzmUAAAAAAAK2ZQAAAAAAAkZlAAAAAAACMmUAAAAAAAGGZQJqZmZmZ2JlAZmZmZmbrmUAAAAAAAEyaQAAAAAAAkJpAAAAAAACkmkAzMzMzM0mbQGZmZmZmuJtAAAAAAACIm0AAAAAAAKCbQGZmZmZmrZtAAAAAAAD2m0AAAAAAANebQGZmZmZm9JtAAAAAAADQm0CamZmZmZubQAAAAAAAzJtAzczMzMw9nEBmZmZmZomcQGZmZmZm/JxAAAAAAACUnEBmZmZmZuWcQAAAAAAABJ1AmpmZmZkKnUAzMzMzM+acQM3MzMzMzpxAmpmZmZmvnEA=",
          "dtype": "f8"
         },
         "open": {
          "bdata": "AAAAAAAonkDNzMzMzOmdQGZmZmZmE55AAAAAAADYnUAzMzMzMwieQM3MzMzM351AMzMzMzPFnkAAAAAAAFCeQDMzMzMzCJ5AMzMzMzNcnUAAAAAAAGidQJqZmZmZOJ1AAAAAAAC4m0AAAAAAAJ+bQGZmZmZmkJtAAAAAAACAm0AAAAAAAECcQDMzMzMzzJtAMzMzMzOdm0AAAAAAACCcQAAAAAAAmJxAAAAAAAAenEAAAAAAAICcQAAAAAAAJZxAAAAAAADQm0AzMzMzM1abQM3MzMzMWJtAAAAAAAAYm0AAAAAAAPGaQDMzMzMzp5pAmpmZmZnLmkBmZmZmZmOaQDMzMzMzUZpAZmZmZmZhmkDNzMzMzFuaQM3MzMzMY5pAAAAAAACkmkAAAAAAAIyaQAAAAAAAHZtAMzMzMzNFmkAzMzMzM06aQAAAAAAAIJpAZmZmZmZAmkCamZmZmUyaQDMzMzMzzJpAmpmZmZnamkAAAAAAAMyaQDMzMzMzWJpAMzMzMzOQmkDNzMzMzI+aQAAAAAAAbJpAAAAAAAComkAzMzMzM82aQDMzMzMzWptAZmZmZmYdm0AzMzMzMwybQAAAAAAAaJpAAAAAAAAYmkAzMzMzM4SaQM3MzMzMY5pAZmZmZmY1mkAAAAAAACyaQAAAAAAAsJlAAAAAAACgmUDNzMzMzP+ZQM3MzMzMSppAzczMzMyzmUAAAAAAAPCZQM3MzMzMg5lAzczMzMyzmUAAAAAAAN+ZQAAAAAAA6JlAAAAAAACMmUAAAAAAAKCZQAAAAAAAGJpAmpmZmZlmmkAAAAAAALyaQGZmZmZmuZpAmpmZmZkvm0AzMzMzMwucQAAAAAAA0ptAAAAAAAC8m0AzMzMzM6ibQM3MzMzMC5xAAAAAAAD5m0AAAAAAABacQM3MzMzML5xAAAAAAADQm0DNzMzMzO+bQDMzMzMzDJxAAAAAAACinEAzMzMzMwCdQAAAAAAAHJ1AzczMzMz8nEDNzMzMzOecQAAAAAAAJJ1AAAAAAAA5nUAzMzMzM/ScQAAAAAAAD51AAAAAAAAYnUA=",
          "dtype": "f8"
         },
         "type": "candlestick",
         "x": [
          "2025-05-02T00:00:00.000000000",
          "2025-04-30T00:00:00.000000000",
          "2025-04-29T00:00:00.000000000",
          "2025-04-28T00:00:00.000000000",
          "2025-04-25T00:00:00.000000000",
          "2025-04-24T00:00:00.000000000",
          "2025-04-23T00:00:00.000000000",
          "2025-04-22T00:00:00.000000000",
          "2025-04-21T00:00:00.000000000",
          "2025-04-17T00:00:00.000000000",
          "2025-04-16T00:00:00.000000000",
          "2025-04-15T00:00:00.000000000",
          "2025-04-11T00:00:00.000000000",
          "2025-04-09T00:00:00.000000000",
          "2025-04-08T00:00:00.000000000",
          "2025-04-07T00:00:00.000000000",
          "2025-04-04T00:00:00.000000000",
          "2025-04-03T00:00:00.000000000",
          "2025-04-02T00:00:00.000000000",
          "2025-04-01T00:00:00.000000000",
          "2025-03-28T00:00:00.000000000",
          "2025-03-27T00:00:00.000000000",
          "2025-03-26T00:00:00.000000000",
          "2025-03-25T00:00:00.000000000",
          "2025-03-24T00:00:00.000000000",
          "2025-03-21T00:00:00.000000000",
          "2025-03-20T00:00:00.000000000",
          "2025-03-19T00:00:00.000000000",
          "2025-03-18T00:00:00.000000000",
          "2025-03-17T00:00:00.000000000",
          "2025-03-13T00:00:00.000000000",
          "2025-03-12T00:00:00.000000000",
          "2025-03-11T00:00:00.000000000",
          "2025-03-10T00:00:00.000000000",
          "2025-03-07T00:00:00.000000000",
          "2025-03-06T00:00:00.000000000",
          "2025-03-05T00:00:00.000000000",
          "2025-03-04T00:00:00.000000000",
          "2025-03-03T00:00:00.000000000",
          "2025-02-28T00:00:00.000000000",
          "2025-02-27T00:00:00.000000000",
          "2025-02-25T00:00:00.000000000",
          "2025-02-24T00:00:00.000000000",
          "2025-02-21T00:00:00.000000000",
          "2025-02-20T00:00:00.000000000",
          "2025-02-19T00:00:00.000000000",
          "2025-02-18T00:00:00.000000000",
          "2025-02-17T00:00:00.000000000",
          "2025-02-14T00:00:00.000000000",
          "2025-02-13T00:00:00.000000000",
          "2025-02-12T00:00:00.000000000",
          "2025-02-11T00:00:00.000000000",
          "2025-02-10T00:00:00.000000000",
          "2025-02-07T00:00:00.000000000",
          "2025-02-06T00:00:00.000000000",
          "2025-02-05T00:00:00.000000000",
          "2025-02-04T00:00:00.000000000",
          "2025-02-03T00:00:00.000000000",
          "2025-02-01T00:00:00.000000000",
          "2025-01-31T00:00:00.000000000",
          "2025-01-30T00:00:00.000000000",
          "2025-01-29T00:00:00.000000000",
          "2025-01-28T00:00:00.000000000",
          "2025-01-27T00:00:00.000000000",
          "2025-01-24T00:00:00.000000000",
          "2025-01-23T00:00:00.000000000",
          "2025-01-22T00:00:00.000000000",
          "2025-01-21T00:00:00.000000000",
          "2025-01-20T00:00:00.000000000",
          "2025-01-17T00:00:00.000000000",
          "2025-01-16T00:00:00.000000000",
          "2025-01-15T00:00:00.000000000",
          "2025-01-14T00:00:00.000000000",
          "2025-01-13T00:00:00.000000000",
          "2025-01-10T00:00:00.000000000",
          "2025-01-09T00:00:00.000000000",
          "2025-01-08T00:00:00.000000000",
          "2025-01-07T00:00:00.000000000",
          "2025-01-06T00:00:00.000000000",
          "2025-01-03T00:00:00.000000000",
          "2025-01-02T00:00:00.000000000",
          "2025-01-01T00:00:00.000000000",
          "2024-12-31T00:00:00.000000000",
          "2024-12-30T00:00:00.000000000",
          "2024-12-27T00:00:00.000000000",
          "2024-12-26T00:00:00.000000000",
          "2024-12-24T00:00:00.000000000",
          "2024-12-23T00:00:00.000000000",
          "2024-12-20T00:00:00.000000000",
          "2024-12-19T00:00:00.000000000",
          "2024-12-18T00:00:00.000000000",
          "2024-12-17T00:00:00.000000000",
          "2024-12-16T00:00:00.000000000",
          "2024-12-13T00:00:00.000000000",
          "2024-12-12T00:00:00.000000000",
          "2024-12-11T00:00:00.000000000",
          "2024-12-10T00:00:00.000000000",
          "2024-12-09T00:00:00.000000000",
          "2024-12-06T00:00:00.000000000",
          "2024-12-05T00:00:00.000000000"
         ]
        }
       ],
       "layout": {
        "height": 800,
        "template": {
         "data": {
          "candlestick": [
           {
            "decreasing": {
             "line": {
              "color": "#000033"
             }
            },
            "increasing": {
             "line": {
              "color": "#000032"
             }
            },
            "type": "candlestick"
           }
          ],
          "contour": [
           {
            "colorscale": [
             [
              0,
              "#000011"
             ],
             [
              0.1111111111111111,
              "#000012"
             ],
             [
              0.2222222222222222,
              "#000013"
             ],
             [
              0.3333333333333333,
              "#000014"
             ],
             [
              0.4444444444444444,
              "#000015"
             ],
             [
              0.5555555555555556,
              "#000016"
             ],
             [
              0.6666666666666666,
              "#000017"
             ],
             [
              0.7777777777777778,
              "#000018"
             ],
             [
              0.8888888888888888,
              "#000019"
             ],
             [
              1,
              "#000020"
             ]
            ],
            "type": "contour"
           }
          ],
          "contourcarpet": [
           {
            "colorscale": [
             [
              0,
              "#000011"
             ],
             [
              0.1111111111111111,
              "#000012"
             ],
             [
              0.2222222222222222,
              "#000013"
             ],
             [
              0.3333333333333333,
              "#000014"
             ],
             [
              0.4444444444444444,
              "#000015"
             ],
             [
              0.5555555555555556,
              "#000016"
             ],
             [
              0.6666666666666666,
              "#000017"
             ],
             [
              0.7777777777777778,
              "#000018"
             ],
             [
              0.8888888888888888,
              "#000019"
             ],
             [
              1,
              "#000020"
             ]
            ],
            "type": "contourcarpet"
           }
          ],
          "heatmap": [
           {
            "colorscale": [
             [
              0,
              "#000011"
             ],
             [
              0.1111111111111111,
              "#000012"
             ],
             [
              0.2222222222222222,
              "#000013"
             ],
             [
              0.3333333333333333,
              "#000014"
             ],
             [
              0.4444444444444444,
              "#000015"
             ],
             [
              0.5555555555555556,
              "#000016"
             ],
             [
              0.6666666666666666,
              "#000017"
             ],
             [
              0.7777777777777778,
              "#000018"
             ],
             [
              0.8888888888888888,
              "#000019"
             ],
             [
              1,
              "#000020"
             ]
            ],
            "type": "heatmap"
           }
          ],
          "histogram2d": [
           {
            "colorscale": [
             [
              0,
              "#000011"
             ],
             [
              0.1111111111111111,
              "#000012"
             ],
             [
              0.2222222222222222,
              "#000013"
             ],
             [
              0.3333333333333333,
              "#000014"
             ],
             [
              0.4444444444444444,
              "#000015"
             ],
             [
              0.5555555555555556,
              "#000016"
             ],
             [
              0.6666666666666666,
              "#000017"
             ],
             [
              0.7777777777777778,
              "#000018"
             ],
             [
              0.8888888888888888,
              "#000019"
             ],
             [
              1,
              "#000020"
             ]
            ],
            "type": "histogram2d"
           }
          ],
          "icicle": [
           {
            "textfont": {
             "color": "white"
            },
            "type": "icicle"
           }
          ],
          "sankey": [
           {
            "textfont": {
             "color": "#000036"
            },
            "type": "sankey"
           }
          ],
          "scatter": [
           {
            "marker": {
             "line": {
              "width": 0
             }
            },
            "type": "scatter"
           }
          ],
          "table": [
           {
            "cells": {
             "fill": {
              "color": "#000038"
             },
             "font": {
              "color": "#000037"
             },
             "line": {
              "color": "#000039"
             }
            },
            "header": {
             "fill": {
              "color": "#000040"
             },
             "font": {
              "color": "#000036"
             },
             "line": {
              "color": "#000039"
             }
            },
            "type": "table"
           }
          ],
          "waterfall": [
           {
            "connector": {
             "line": {
              "color": "#000036",
              "width": 2
             }
            },
            "decreasing": {
             "marker": {
              "color": "#000033"
             }
            },
            "increasing": {
             "marker": {
              "color": "#000032"
             }
            },
            "totals": {
             "marker": {
              "color": "#000034"
             }
            },
            "type": "waterfall"
           }
          ]
         },
         "layout": {
          "coloraxis": {
           "colorscale": [
            [
             0,
             "#000011"
            ],
            [
             0.1111111111111111,
             "#000012"
            ],
            [
             0.2222222222222222,
             "#000013"
            ],
            [
             0.3333333333333333,
             "#000014"
            ],
            [
             0.4444444444444444,
             "#000015"
            ],
            [
             0.5555555555555556,
             "#000016"
            ],
            [
             0.6666666666666666,
             "#000017"
            ],
            [
             0.7777777777777778,
             "#000018"
            ],
            [
             0.8888888888888888,
             "#000019"
            ],
            [
             1,
             "#000020"
            ]
           ]
          },
          "colorscale": {
           "diverging": [
            [
             0,
             "#000021"
            ],
            [
             0.1,
             "#000022"
            ],
            [
             0.2,
             "#000023"
            ],
            [
             0.3,
             "#000024"
            ],
            [
             0.4,
             "#000025"
            ],
            [
             0.5,
             "#000026"
            ],
            [
             0.6,
             "#000027"
            ],
            [
             0.7,
             "#000028"
            ],
            [
             0.8,
             "#000029"
            ],
            [
             0.9,
             "#000030"
            ],
            [
             1,
             "#000031"
            ]
           ],
           "sequential": [
            [
             0,
             "#000011"
            ],
            [
             0.1111111111111111,
             "#000012"
            ],
            [
             0.2222222222222222,
             "#000013"
            ],
            [
             0.3333333333333333,
             "#000014"
            ],
            [
             0.4444444444444444,
             "#000015"
            ],
            [
             0.5555555555555556,
             "#000016"
            ],
            [
             0.6666666666666666,
             "#000017"
            ],
            [
             0.7777777777777778,
             "#000018"
            ],
            [
             0.8888888888888888,
             "#000019"
            ],
            [
             1,
             "#000020"
            ]
           ],
           "sequentialminus": [
            [
             0,
             "#000011"
            ],
            [
             0.1111111111111111,
             "#000012"
            ],
            [
             0.2222222222222222,
             "#000013"
            ],
            [
             0.3333333333333333,
             "#000014"
            ],
            [
             0.4444444444444444,
             "#000015"
            ],
            [
             0.5555555555555556,
             "#000016"
            ],
            [
             0.6666666666666666,
             "#000017"
            ],
            [
             0.7777777777777778,
             "#000018"
            ],
            [
             0.8888888888888888,
             "#000019"
            ],
            [
             1,
             "#000020"
            ]
           ]
          },
          "colorway": [
           "#000001",
           "#000002",
           "#000003",
           "#000004",
           "#000005",
           "#000006",
           "#000007",
           "#000008",
           "#000009",
           "#000010"
          ]
         }
        },
        "width": 1000
       }
      }
     },
     "metadata": {},
     "output_type": "display_data"
    }
   ],
   "source": [
    "client.plot_chart(df2)"
   ]
  },
  {
   "cell_type": "code",
   "execution_count": 28,
   "id": "080e25ed",
   "metadata": {},
   "outputs": [
    {
     "data": {
      "text/html": [
       "<div>\n",
       "<style scoped>\n",
       "    .dataframe tbody tr th:only-of-type {\n",
       "        vertical-align: middle;\n",
       "    }\n",
       "\n",
       "    .dataframe tbody tr th {\n",
       "        vertical-align: top;\n",
       "    }\n",
       "\n",
       "    .dataframe thead th {\n",
       "        text-align: right;\n",
       "    }\n",
       "</style>\n",
       "<table border=\"1\" class=\"dataframe\">\n",
       "  <thead>\n",
       "    <tr style=\"text-align: right;\">\n",
       "      <th></th>\n",
       "      <th>1. open</th>\n",
       "      <th>2. high</th>\n",
       "      <th>3. low</th>\n",
       "      <th>4. close</th>\n",
       "      <th>5. volume</th>\n",
       "    </tr>\n",
       "  </thead>\n",
       "  <tbody>\n",
       "    <tr>\n",
       "      <th>2025-05-02</th>\n",
       "      <td>284.90</td>\n",
       "      <td>294.7800</td>\n",
       "      <td>279.8100</td>\n",
       "      <td>287.21</td>\n",
       "      <td>114454683.0</td>\n",
       "    </tr>\n",
       "    <tr>\n",
       "      <th>2025-05-01</th>\n",
       "      <td>280.01</td>\n",
       "      <td>290.8688</td>\n",
       "      <td>279.8100</td>\n",
       "      <td>280.52</td>\n",
       "      <td>99658974.0</td>\n",
       "    </tr>\n",
       "    <tr>\n",
       "      <th>2025-04-30</th>\n",
       "      <td>279.90</td>\n",
       "      <td>284.4500</td>\n",
       "      <td>270.7800</td>\n",
       "      <td>282.16</td>\n",
       "      <td>128961057.0</td>\n",
       "    </tr>\n",
       "    <tr>\n",
       "      <th>2025-04-29</th>\n",
       "      <td>285.50</td>\n",
       "      <td>293.3200</td>\n",
       "      <td>279.4695</td>\n",
       "      <td>292.03</td>\n",
       "      <td>108906553.0</td>\n",
       "    </tr>\n",
       "    <tr>\n",
       "      <th>2025-04-28</th>\n",
       "      <td>288.98</td>\n",
       "      <td>294.8600</td>\n",
       "      <td>272.4200</td>\n",
       "      <td>285.88</td>\n",
       "      <td>151731771.0</td>\n",
       "    </tr>\n",
       "    <tr>\n",
       "      <th>...</th>\n",
       "      <td>...</td>\n",
       "      <td>...</td>\n",
       "      <td>...</td>\n",
       "      <td>...</td>\n",
       "      <td>...</td>\n",
       "    </tr>\n",
       "    <tr>\n",
       "      <th>2024-12-12</th>\n",
       "      <td>424.84</td>\n",
       "      <td>429.3000</td>\n",
       "      <td>415.0000</td>\n",
       "      <td>418.10</td>\n",
       "      <td>87752225.0</td>\n",
       "    </tr>\n",
       "    <tr>\n",
       "      <th>2024-12-11</th>\n",
       "      <td>409.70</td>\n",
       "      <td>424.8800</td>\n",
       "      <td>402.3800</td>\n",
       "      <td>424.77</td>\n",
       "      <td>104287559.0</td>\n",
       "    </tr>\n",
       "    <tr>\n",
       "      <th>2024-12-10</th>\n",
       "      <td>392.68</td>\n",
       "      <td>409.7300</td>\n",
       "      <td>390.8500</td>\n",
       "      <td>400.99</td>\n",
       "      <td>97563578.0</td>\n",
       "    </tr>\n",
       "    <tr>\n",
       "      <th>2024-12-09</th>\n",
       "      <td>397.61</td>\n",
       "      <td>404.8000</td>\n",
       "      <td>378.0100</td>\n",
       "      <td>389.79</td>\n",
       "      <td>96359173.0</td>\n",
       "    </tr>\n",
       "    <tr>\n",
       "      <th>2024-12-06</th>\n",
       "      <td>377.42</td>\n",
       "      <td>389.4900</td>\n",
       "      <td>370.8000</td>\n",
       "      <td>389.22</td>\n",
       "      <td>81455834.0</td>\n",
       "    </tr>\n",
       "  </tbody>\n",
       "</table>\n",
       "<p>100 rows × 5 columns</p>\n",
       "</div>"
      ],
      "text/plain": [
       "            1. open   2. high    3. low  4. close    5. volume\n",
       "2025-05-02   284.90  294.7800  279.8100    287.21  114454683.0\n",
       "2025-05-01   280.01  290.8688  279.8100    280.52   99658974.0\n",
       "2025-04-30   279.90  284.4500  270.7800    282.16  128961057.0\n",
       "2025-04-29   285.50  293.3200  279.4695    292.03  108906553.0\n",
       "2025-04-28   288.98  294.8600  272.4200    285.88  151731771.0\n",
       "...             ...       ...       ...       ...          ...\n",
       "2024-12-12   424.84  429.3000  415.0000    418.10   87752225.0\n",
       "2024-12-11   409.70  424.8800  402.3800    424.77  104287559.0\n",
       "2024-12-10   392.68  409.7300  390.8500    400.99   97563578.0\n",
       "2024-12-09   397.61  404.8000  378.0100    389.79   96359173.0\n",
       "2024-12-06   377.42  389.4900  370.8000    389.22   81455834.0\n",
       "\n",
       "[100 rows x 5 columns]"
      ]
     },
     "execution_count": 28,
     "metadata": {},
     "output_type": "execute_result"
    }
   ],
   "source": [
    "df3 = client.stock_data(\"TSLA\")\n",
    "df3"
   ]
  },
  {
   "cell_type": "code",
   "execution_count": 29,
   "id": "9c5e7605",
   "metadata": {},
   "outputs": [
    {
     "data": {
      "application/vnd.plotly.v1+json": {
       "config": {
        "plotlyServerURL": "https://plot.ly"
       },
       "data": [
        {
         "close": {
          "bdata": "j8L1KFzzcUC4HoXrUYhxQMP1KFyPonFAFK5H4XpAckCuR+F6FN5xQDMzMzMzz3FAXI/C9Sg4cEBI4XoUrldvQNejcD0Kv21AAAAAAABwbECkcD0K1ytuQJqZmZmZMW5A7FG4HoXDb0AzMzMzM4tvQFK4HoXriW9AzczMzMyMb0AzMzMzMwNxQOxRuB6Fu2tA4XoUrkcpbUD2KFyPwu1tQBSuR+F6tHBAXI/C9SiscUCPwvUoXMdwQMP1KFyPMnBAzczMzMx4cECuR+F6FBJxQClcj8L1AHFACtejcD0CckAK16NwPWZxQB+F61G4Fm9AuB6F61GIbUDsUbgehXttQFK4HoXrKWxAuB6F61HAbUCPwvUoXD9vQPYoXI/CFW5AexSuR+ECb0DD9Shcj9JsQM3MzMzMxGtAH4XrUbhqcEAzMzMzM3dwQJqZmZmZcXFAcT0K16MAcUBmZmZmZspxQEjhehSuT3JAMzMzMzOfcUDNzMzMzCxyQM3MzMzM7HJAFK5H4XqodEDNzMzMzBx1QGZmZmZmJnZAKVyPwvWIdkD2KFyPwiF2QD0K16NwPXZA16NwPQo/dkBcj8L1KAh1QAAAAAAAiHRASOF6FK7rdUBSuB6F65l2QIXrUbgeZXdAH4XrUbiid0CPwvUoXIN4QHsUrkfh+ndAmpmZmZlJeUAUrkfhegR5QJqZmZmZUXhAPQrXo3DheEBmZmZmZtJ4QOF6FK5HaXlArkfhehTGeUD2KFyPwvF5QIXrUbgegXpAAAAAAACoekCF61G4Ht15QOxRuB6Fw3pA9ihcj8LFeEApXI/C9TR5QKRwPQrXq3hA16NwPQqveED2KFyPwqV4QM3MzMzMsHlA16NwPQqneUAUrkfherR3QD0K16NwPXlAw/UoXI8WekDD9Shcj/p6QK5H4XoUYnxAFK5H4XrkfECamZmZmel6QClcj8L1UHpAH4XrUbhCe0CuR+F6FIJ7QPYoXI/C/X1AuB6F61HwfEBI4XoUrkN7QJqZmZmZIXpAuB6F61GMekCkcD0K1w95QHE9CtejXHhA7FG4HoVTeEA=",
          "dtype": "f8"
         },
         "high": {
          "bdata": "FK5H4XpsckA9LNSa5i1yQDMzMzMzx3FAhetRuB5VckD2KFyPwm1yQJqZmZmZ7XFAcT0K16M4cECHp1fKMjdwQOF6FK5HWW5AH4XrUbgGbUB7FK5H4YpuQNejcD0Kf29AAAAAAAAscEDNzMzMzFxwQKRwPQrXG3BApHA9CtdncEDXo3A9CitxQK5H4XoUTm9AAAAAAACAb0AAAAAAAFBwQM3MzMzMRHFApHA9CtfPcUAzMzMzM1dxQClcj8L1SHBAmpmZmZlBcUCamZmZmT1yQGZmZmZmznFAMzMzMzMDckAK16NwPWpxQHE9CtejMG9AAAAAAADAbUCF61G4Hi1uQDMzMzMzw2xAzczMzMysbkDD9Shcj3JvQOF6FK5HCW9AexSuR+F6b0BVMCqpE6JtQKRwPQrXq29AVHQkl/+jcEBmZmZmZgpxQM3MzMzMeHFAmpmZmZnFcUDXo3A9Cv9yQK5H4XoUXnJASOF6FK6TckAAAAAAAFBzQArXo3A9jnRANqs+V1tmdUBI4XoUri92QM3MzMzMpHZAPQrXo3D1dkCamZmZmXF2QAAAAAAAoHZA16NwPQprdkBmZmZmZqZ1QFK4HoXr1XVAMzMzMzOrdkAvbqMBvMh3QGZmZmZmdndACtejcD1GeEAAAAAAAKB4QB+F61G4UnhApHA9Ctc/ekAAAAAAAMh5QJF++zpw6XhAPQrXo3AJeUDXo3A9Cmt5QK5H4XoULnpASOF6FK5LekAAAAAAAMB6QDMzMzMzE3tApHA9Ctd7e0AAAAAAAIB6QM3MzMzM3HpACtejcD1qekBxPQrXozx5QBSuR+F69HhAVHQkl/8neUDhehSuR+V5QHsUrkfhpnpAArwFEhS+eUCbVZ+rrYt4QHsUrkfhvnpAAAAAAACwekAAAAAAACB8QDXvOEVHFX1AFK5H4XrsfEBcj8L1KCh7QOF6FK5H8XtA9ihcj8KFfEDEsS5uo4h+QKRwPQrXP35A16NwPQrzfEDNzMzMzER7QM3MzMzM1HpArkfhehSOekBI4XoUrpt5QM3MzMzMTHlApHA9CtdXeEA=",
          "dtype": "f8"
         },
         "low": {
          "bdata": "KVyPwvV8cUApXI/C9XxxQBSuR+F67HBAjZduEoN3cUAfhetRuAZxQK5H4XoUOnBAZmZmZmYmb0D2KFyPwo1uQIxK6gQ0u2xA4XoUrkfZa0BrK/aX3bVtQBSuR+F6PG1A4XoUrkfxbkD2KFyPwr1uQP32deCcK25Aw/UoXI/qbUBcj8L1KPxrQJqZmZmZOWtAAAAAAADIakAAAAAAAIBtQFyPwvUoWHBAcT0K16Nob0AAAAAAADRwQERpb/CFa25AhetRuB5JcEBMpgpGJf1wQFyPwvUoqHBAFK5H4Xr0cEDhehSuRwVwQJqZmZmZUW1A8rBQa5rBbEDfT42XbqZsQClcj8L1yGtAmpmZmZkZbUCPwvUoXBduQDMzMzMzE21AMzMzMzMjbkBxPQrXoyBrQAAAAAAAgGtAj8L1KFxXb0C4HoXrUUBwQI/C9Shcu3BA6pWyDHFdcEDNzMzMzFRxQJqZmZmZGXFArkfhehSOcUBxPQrXowByQBWMSuoElHJAMzMzMzNLdEAfhetRuOZ0QAAAAAAAwHVAH4XrUbgadkC4HoXrUeB1QAAAAAAAuHVAmpmZmZltdUBSuB6F65F0QJqZmZmZUXRAXI/C9SjodUA9CtejcIV2QHsUrkfhsnZAFK5H4Xp4d0BmZmZmZtZ3QPYoXI/CZXdAPQrXo3AVeUDD9ShcjwZ4QEjhehSuB3hAAAAAAAAoeEAAAAAAAFB4QBSuR+F6XHlAMzMzMzOPeUA9CtejcOl5QClcj8L1ZHlAAAAAAAA8ekCuR+F6FJJ5QH9qvHSTWnlAcT0K16OoeECF61G4HsF3QHE9CtejlHdAZmZmZmY2eEAAAAAAAGB4QDMzMzMzG3lAMzMzMzO3d0BxPQrXo1B3QHE9CtejKHlAAAAAAAD8eUAAAAAAAKh6QLgehetRMHxACtejcD0ye0DYgXNGlPZ5QArXo3A9GnpAuB6F61FAekBcj8L1KLB6QAkbnl4pmHxAZmZmZmZCe0CPwvUoXPt5QAAAAAAA8HlArkfhehQmeUCamZmZmW14QFyPwvUooHdAzczMzMwsd0A=",
          "dtype": "f8"
         },
         "open": {
          "bdata": "ZmZmZmbOcUBcj8L1KIBxQGZmZmZmfnFAAAAAAADYcUBI4XoUrg9yQNejcD0KW3BAAAAAAABQb0DsUbgehdtvQB+F61G43mxAuB6F61HIbEDXo3A9Cm9uQOxRuB6F825AhetRuB49b0D2KFyPwiVwQHsUrkfhem9AAAAAAABAcECuR+F6FBZsQAAAAAAAoG5AKVyPwvX4a0Bcj8L1KOxvQHE9CtejlHBAMzMzMzPTb0DNzMzMzHxwQFK4HoXrKW9AMzMzMzM5cUBI4XoUrgdxQMP1KFyPqnFAmpmZmZm5cUAzMzMzMyFwQOxRuB6FX21A16NwPQorbUDsUbgehfNsQClcj8L1hGxA9ihcj8KhbkBSuB6F6+luQAAAAAAABG9A16NwPQrnbkD2KFyPwilsQOF6FK5HkW9AhetRuB41cEApXI/C9QBxQB+F61G4DnFAexSuR+HucEA9CtejcMVyQAAAAAAAeHFAw/UoXI8yckA9CtejcPtyQGZmZmZmcHRACtejcD0idUDXo3A9Chd2QFyPwvUomHZAAAAAAAAgdkBcj8L1KDB2QFK4HoXriXZAAAAAAACQdUDXo3A9Cp90QM3MzMzMnHVAj8L1KFxDdkDXo3A9CiN3QBSuR+F6UHdAXI/C9Sg4eECuR+F6FOp3QHsUrkfhKnhAFK5H4XoYeUAUrkfheqx5QI/C9Shcs3hAw/UoXI/OeEDNzMzMzKx4QDMzMzMz53lAKVyPwvUAekApXI/C9Qx6QArXo3A9CntAAAAAAABYekCkcD0K13d6QGZmZmZmnnlAPQrXo3DleUCPwvUoXPN3QGZmZmZmdnhAMzMzMzOPeEDhehSuR115QDMzMzMzc3pASOF6FK7Xd0CamZmZmWF4QHE9CtejfHpAZmZmZmY2ekC4HoXrURh8QMP1KFyPEn1AZmZmZmY+e0AAAAAAAPB6QK5H4XoUmHpArkfhehQ+fEBSuB6F6yd9QGZmZmZmvn1APQrXo3CRe0AAAAAAAEB6QD0K16NwjXpAMzMzMzObeUB7FK5H4Yp4QPYoXI/C2XhAH4XrUbiWd0A=",
          "dtype": "f8"
         },
         "type": "candlestick",
         "x": [
          "2025-05-02T00:00:00.000000000",
          "2025-05-01T00:00:00.000000000",
          "2025-04-30T00:00:00.000000000",
          "2025-04-29T00:00:00.000000000",
          "2025-04-28T00:00:00.000000000",
          "2025-04-25T00:00:00.000000000",
          "2025-04-24T00:00:00.000000000",
          "2025-04-23T00:00:00.000000000",
          "2025-04-22T00:00:00.000000000",
          "2025-04-21T00:00:00.000000000",
          "2025-04-17T00:00:00.000000000",
          "2025-04-16T00:00:00.000000000",
          "2025-04-15T00:00:00.000000000",
          "2025-04-14T00:00:00.000000000",
          "2025-04-11T00:00:00.000000000",
          "2025-04-10T00:00:00.000000000",
          "2025-04-09T00:00:00.000000000",
          "2025-04-08T00:00:00.000000000",
          "2025-04-07T00:00:00.000000000",
          "2025-04-04T00:00:00.000000000",
          "2025-04-03T00:00:00.000000000",
          "2025-04-02T00:00:00.000000000",
          "2025-04-01T00:00:00.000000000",
          "2025-03-31T00:00:00.000000000",
          "2025-03-28T00:00:00.000000000",
          "2025-03-27T00:00:00.000000000",
          "2025-03-26T00:00:00.000000000",
          "2025-03-25T00:00:00.000000000",
          "2025-03-24T00:00:00.000000000",
          "2025-03-21T00:00:00.000000000",
          "2025-03-20T00:00:00.000000000",
          "2025-03-19T00:00:00.000000000",
          "2025-03-18T00:00:00.000000000",
          "2025-03-17T00:00:00.000000000",
          "2025-03-14T00:00:00.000000000",
          "2025-03-13T00:00:00.000000000",
          "2025-03-12T00:00:00.000000000",
          "2025-03-11T00:00:00.000000000",
          "2025-03-10T00:00:00.000000000",
          "2025-03-07T00:00:00.000000000",
          "2025-03-06T00:00:00.000000000",
          "2025-03-05T00:00:00.000000000",
          "2025-03-04T00:00:00.000000000",
          "2025-03-03T00:00:00.000000000",
          "2025-02-28T00:00:00.000000000",
          "2025-02-27T00:00:00.000000000",
          "2025-02-26T00:00:00.000000000",
          "2025-02-25T00:00:00.000000000",
          "2025-02-24T00:00:00.000000000",
          "2025-02-21T00:00:00.000000000",
          "2025-02-20T00:00:00.000000000",
          "2025-02-19T00:00:00.000000000",
          "2025-02-18T00:00:00.000000000",
          "2025-02-14T00:00:00.000000000",
          "2025-02-13T00:00:00.000000000",
          "2025-02-12T00:00:00.000000000",
          "2025-02-11T00:00:00.000000000",
          "2025-02-10T00:00:00.000000000",
          "2025-02-07T00:00:00.000000000",
          "2025-02-06T00:00:00.000000000",
          "2025-02-05T00:00:00.000000000",
          "2025-02-04T00:00:00.000000000",
          "2025-02-03T00:00:00.000000000",
          "2025-01-31T00:00:00.000000000",
          "2025-01-30T00:00:00.000000000",
          "2025-01-29T00:00:00.000000000",
          "2025-01-28T00:00:00.000000000",
          "2025-01-27T00:00:00.000000000",
          "2025-01-24T00:00:00.000000000",
          "2025-01-23T00:00:00.000000000",
          "2025-01-22T00:00:00.000000000",
          "2025-01-21T00:00:00.000000000",
          "2025-01-17T00:00:00.000000000",
          "2025-01-16T00:00:00.000000000",
          "2025-01-15T00:00:00.000000000",
          "2025-01-14T00:00:00.000000000",
          "2025-01-13T00:00:00.000000000",
          "2025-01-10T00:00:00.000000000",
          "2025-01-08T00:00:00.000000000",
          "2025-01-07T00:00:00.000000000",
          "2025-01-06T00:00:00.000000000",
          "2025-01-03T00:00:00.000000000",
          "2025-01-02T00:00:00.000000000",
          "2024-12-31T00:00:00.000000000",
          "2024-12-30T00:00:00.000000000",
          "2024-12-27T00:00:00.000000000",
          "2024-12-26T00:00:00.000000000",
          "2024-12-24T00:00:00.000000000",
          "2024-12-23T00:00:00.000000000",
          "2024-12-20T00:00:00.000000000",
          "2024-12-19T00:00:00.000000000",
          "2024-12-18T00:00:00.000000000",
          "2024-12-17T00:00:00.000000000",
          "2024-12-16T00:00:00.000000000",
          "2024-12-13T00:00:00.000000000",
          "2024-12-12T00:00:00.000000000",
          "2024-12-11T00:00:00.000000000",
          "2024-12-10T00:00:00.000000000",
          "2024-12-09T00:00:00.000000000",
          "2024-12-06T00:00:00.000000000"
         ]
        }
       ],
       "layout": {
        "height": 800,
        "template": {
         "data": {
          "candlestick": [
           {
            "decreasing": {
             "line": {
              "color": "#000033"
             }
            },
            "increasing": {
             "line": {
              "color": "#000032"
             }
            },
            "type": "candlestick"
           }
          ],
          "contour": [
           {
            "colorscale": [
             [
              0,
              "#000011"
             ],
             [
              0.1111111111111111,
              "#000012"
             ],
             [
              0.2222222222222222,
              "#000013"
             ],
             [
              0.3333333333333333,
              "#000014"
             ],
             [
              0.4444444444444444,
              "#000015"
             ],
             [
              0.5555555555555556,
              "#000016"
             ],
             [
              0.6666666666666666,
              "#000017"
             ],
             [
              0.7777777777777778,
              "#000018"
             ],
             [
              0.8888888888888888,
              "#000019"
             ],
             [
              1,
              "#000020"
             ]
            ],
            "type": "contour"
           }
          ],
          "contourcarpet": [
           {
            "colorscale": [
             [
              0,
              "#000011"
             ],
             [
              0.1111111111111111,
              "#000012"
             ],
             [
              0.2222222222222222,
              "#000013"
             ],
             [
              0.3333333333333333,
              "#000014"
             ],
             [
              0.4444444444444444,
              "#000015"
             ],
             [
              0.5555555555555556,
              "#000016"
             ],
             [
              0.6666666666666666,
              "#000017"
             ],
             [
              0.7777777777777778,
              "#000018"
             ],
             [
              0.8888888888888888,
              "#000019"
             ],
             [
              1,
              "#000020"
             ]
            ],
            "type": "contourcarpet"
           }
          ],
          "heatmap": [
           {
            "colorscale": [
             [
              0,
              "#000011"
             ],
             [
              0.1111111111111111,
              "#000012"
             ],
             [
              0.2222222222222222,
              "#000013"
             ],
             [
              0.3333333333333333,
              "#000014"
             ],
             [
              0.4444444444444444,
              "#000015"
             ],
             [
              0.5555555555555556,
              "#000016"
             ],
             [
              0.6666666666666666,
              "#000017"
             ],
             [
              0.7777777777777778,
              "#000018"
             ],
             [
              0.8888888888888888,
              "#000019"
             ],
             [
              1,
              "#000020"
             ]
            ],
            "type": "heatmap"
           }
          ],
          "histogram2d": [
           {
            "colorscale": [
             [
              0,
              "#000011"
             ],
             [
              0.1111111111111111,
              "#000012"
             ],
             [
              0.2222222222222222,
              "#000013"
             ],
             [
              0.3333333333333333,
              "#000014"
             ],
             [
              0.4444444444444444,
              "#000015"
             ],
             [
              0.5555555555555556,
              "#000016"
             ],
             [
              0.6666666666666666,
              "#000017"
             ],
             [
              0.7777777777777778,
              "#000018"
             ],
             [
              0.8888888888888888,
              "#000019"
             ],
             [
              1,
              "#000020"
             ]
            ],
            "type": "histogram2d"
           }
          ],
          "icicle": [
           {
            "textfont": {
             "color": "white"
            },
            "type": "icicle"
           }
          ],
          "sankey": [
           {
            "textfont": {
             "color": "#000036"
            },
            "type": "sankey"
           }
          ],
          "scatter": [
           {
            "marker": {
             "line": {
              "width": 0
             }
            },
            "type": "scatter"
           }
          ],
          "table": [
           {
            "cells": {
             "fill": {
              "color": "#000038"
             },
             "font": {
              "color": "#000037"
             },
             "line": {
              "color": "#000039"
             }
            },
            "header": {
             "fill": {
              "color": "#000040"
             },
             "font": {
              "color": "#000036"
             },
             "line": {
              "color": "#000039"
             }
            },
            "type": "table"
           }
          ],
          "waterfall": [
           {
            "connector": {
             "line": {
              "color": "#000036",
              "width": 2
             }
            },
            "decreasing": {
             "marker": {
              "color": "#000033"
             }
            },
            "increasing": {
             "marker": {
              "color": "#000032"
             }
            },
            "totals": {
             "marker": {
              "color": "#000034"
             }
            },
            "type": "waterfall"
           }
          ]
         },
         "layout": {
          "coloraxis": {
           "colorscale": [
            [
             0,
             "#000011"
            ],
            [
             0.1111111111111111,
             "#000012"
            ],
            [
             0.2222222222222222,
             "#000013"
            ],
            [
             0.3333333333333333,
             "#000014"
            ],
            [
             0.4444444444444444,
             "#000015"
            ],
            [
             0.5555555555555556,
             "#000016"
            ],
            [
             0.6666666666666666,
             "#000017"
            ],
            [
             0.7777777777777778,
             "#000018"
            ],
            [
             0.8888888888888888,
             "#000019"
            ],
            [
             1,
             "#000020"
            ]
           ]
          },
          "colorscale": {
           "diverging": [
            [
             0,
             "#000021"
            ],
            [
             0.1,
             "#000022"
            ],
            [
             0.2,
             "#000023"
            ],
            [
             0.3,
             "#000024"
            ],
            [
             0.4,
             "#000025"
            ],
            [
             0.5,
             "#000026"
            ],
            [
             0.6,
             "#000027"
            ],
            [
             0.7,
             "#000028"
            ],
            [
             0.8,
             "#000029"
            ],
            [
             0.9,
             "#000030"
            ],
            [
             1,
             "#000031"
            ]
           ],
           "sequential": [
            [
             0,
             "#000011"
            ],
            [
             0.1111111111111111,
             "#000012"
            ],
            [
             0.2222222222222222,
             "#000013"
            ],
            [
             0.3333333333333333,
             "#000014"
            ],
            [
             0.4444444444444444,
             "#000015"
            ],
            [
             0.5555555555555556,
             "#000016"
            ],
            [
             0.6666666666666666,
             "#000017"
            ],
            [
             0.7777777777777778,
             "#000018"
            ],
            [
             0.8888888888888888,
             "#000019"
            ],
            [
             1,
             "#000020"
            ]
           ],
           "sequentialminus": [
            [
             0,
             "#000011"
            ],
            [
             0.1111111111111111,
             "#000012"
            ],
            [
             0.2222222222222222,
             "#000013"
            ],
            [
             0.3333333333333333,
             "#000014"
            ],
            [
             0.4444444444444444,
             "#000015"
            ],
            [
             0.5555555555555556,
             "#000016"
            ],
            [
             0.6666666666666666,
             "#000017"
            ],
            [
             0.7777777777777778,
             "#000018"
            ],
            [
             0.8888888888888888,
             "#000019"
            ],
            [
             1,
             "#000020"
            ]
           ]
          },
          "colorway": [
           "#000001",
           "#000002",
           "#000003",
           "#000004",
           "#000005",
           "#000006",
           "#000007",
           "#000008",
           "#000009",
           "#000010"
          ]
         }
        },
        "width": 1000
       }
      }
     },
     "metadata": {},
     "output_type": "display_data"
    }
   ],
   "source": [
    "client.plot_chart(df3)"
   ]
  },
  {
   "cell_type": "code",
   "execution_count": null,
   "id": "546e800e",
   "metadata": {},
   "outputs": [],
   "source": []
  }
 ],
 "metadata": {
  "kernelspec": {
   "display_name": ".venv",
   "language": "python",
   "name": "python3"
  },
  "language_info": {
   "codemirror_mode": {
    "name": "ipython",
    "version": 3
   },
   "file_extension": ".py",
   "mimetype": "text/x-python",
   "name": "python",
   "nbconvert_exporter": "python",
   "pygments_lexer": "ipython3",
   "version": "3.12.1"
  }
 },
 "nbformat": 4,
 "nbformat_minor": 5
}
